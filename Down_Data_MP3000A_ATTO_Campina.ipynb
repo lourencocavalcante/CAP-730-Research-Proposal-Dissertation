{
  "cells": [
    {
      "cell_type": "markdown",
      "metadata": {
        "id": "view-in-github",
        "colab_type": "text"
      },
      "source": [
        "<a href=\"https://colab.research.google.com/github/lourencocavalcante/CAP-Dissertation-Complementary-studies/blob/main/Down_Data_MP3000A_ATTO_Campina.ipynb\" target=\"_parent\"><img src=\"https://colab.research.google.com/assets/colab-badge.svg\" alt=\"Open In Colab\"/></a>"
      ]
    },
    {
      "cell_type": "markdown",
      "metadata": {
        "id": "OCGrfcaNk9Ju"
      },
      "source": [
        "[<img src=\"https://github.com/lourencocavalcante/LogosINPE/blob/main/logoinpe.png?raw=true\" width = 500 align=\"left\">](https://www.gov.br/inpe/pt-br)\n",
        "\n",
        "[<img src=\"https://github.com/lourencocavalcante/LogosINPE/blob/main/LogoCAP.png?raw=true\" width = 300 align=\"right\">](http://www.inpe.br/posgraduacao/cap/)"
      ]
    },
    {
      "cell_type": "markdown",
      "metadata": {
        "id": "ect6m7UiI28E"
      },
      "source": [
        "# <span style=\"color:#336699; text-align: center;\">MP3000A: Download e visualização dos dados  (Index of /ftp/public/ATTO/Campina/MP3000)</span>\n",
        "<hr style=\"border:2px solid #0077b9;\">\n",
        "\n",
        "<br/>\n",
        "\n",
        "<div style=\"text-align: center;font-size: 110%;\">\n",
        "    <b>Download e visualização dos dados</b>\n",
        "    <br/>\n",
        "    <b>Docente:</b> Dr. Alan James\n",
        "    <br/><br/>\n",
        "    <b>Discente:</b> Lourenço José Cavalcante Neto\n",
        "    <br/>\n",
        "    <b>E-mail:</b> <a href=\"mailto:lourenco.cavalcante@ifto.edu.b\">lourenco.cavalcante@ifto.edu.br</a>\n",
        "\n",
        "</div>\n",
        "\n",
        "<br/>\n",
        "\n",
        "<div style=\"text-align: justify;  margin-left: 20%; margin-right: 20%;\">\n",
        "<b>Objetivo: </b> O principal objetivo deste caderno notebook é baixar (via FTP) e visualizar os dados do Radiômetro de microondas terreste (Modelo MP-3000A), instalado no sítio Campina (S 02 10.9142 W 059 1.3063), no qual faz parte da composição do projeto Amazonian Tall Tower Observatory  (ATTO).\n",
        "</div>"
      ]
    },
    {
      "cell_type": "markdown",
      "metadata": {
        "id": "nFcD5Gx3Vuyz"
      },
      "source": [
        "<span style=\"text-align: center;\"> Este caderno notebook também pode ser visualizado no meu diretório de materiais e atividades da disciplina **CAP-324** no **Github**,  [Clicando aqui](https://github.com/lourencocavalcante/Fuzzy-Logic.git) </span>"
      ]
    },
    {
      "cell_type": "markdown",
      "source": [
        "# **Lógica Nebulosa (Fuzzy Logic)**"
      ],
      "metadata": {
        "id": "66PyRnagA772"
      }
    },
    {
      "cell_type": "markdown",
      "metadata": {
        "id": "7Okfq4RbVmXD"
      },
      "source": [
        "Na lógica convencional (binária), um elemento pertence ou não pertence a um determinado conjunto, e nunca se encontra entre estes dois estados possíveis. Esta é uma maneira de simplificar um mundo inerentemente complexo, mas - argumentam os defensores da lógica nebulosa - esta simplificação acaba por distorcer a realidade (GRINT, 1997). A lógica nebulosa é um método que permite expressar incertezas de maneira mais consistente, através dos conjuntos nebulosos: ao invés de simplesmente pertencer ou não pertencer, um elemento poderá ter vários graus de pertinência a um conjunto. \n",
        "\n",
        "O conceito de lógica nebulosa (fuzzy logic ou LN) foi introduzido por Lotfi Zadeh em 1965, como uma forma de reduzir e explicar a complexidade de sistemas (Cox, 1998). Esta idéia permaneceu praticamente desconhecida pelo grande público até o final da década de 1980, quando o metrô de Sendai adotou um sistema baseado na LN - o Automatic Train Operator (ATO) - e surgiram várias empresas que tinham o objetivo de desenvolver e comercializar produtos baseados nesta tecnologia. Apesar de o interesse comercial haver arrefecido, hoje é possível encontrar aplicações da lógica nebulosa em áreas bem diferentes daquela em que surgiu\n",
        "\n",
        "Os conjuntos nebulosos (fuzzy sets) são funções que mapeiam, em uma escala de zero a um, esta pertinência de um determinado elemento ao conjunto. O valor zero indica que o elemento não pertence ao conjunto, enquanto o valor um significa que o elemento é completamente representativo do conjunto; valores entre estes dois indicam graus intermediários de pertinência.\n",
        "\n",
        "Com conjuntos nebulosos é possível realizar várias operações - as básicas são interseção, união e complemento - e, com regras de inferência (policies), criar modelos que auxiliem na tomada de decisão."
      ]
    },
    {
      "cell_type": "markdown",
      "source": [
        "\n",
        "\n",
        "---\n",
        "\n"
      ],
      "metadata": {
        "id": "dUu-KLFffzCV"
      }
    },
    {
      "cell_type": "markdown",
      "metadata": {
        "id": "-IUoRbDBTZZj"
      },
      "source": [
        "# **Chapter 2 problems**\n"
      ]
    },
    {
      "cell_type": "markdown",
      "source": [
        "## **Problem 5**\n",
        "\n",
        "<img src=\"https://github.com/lourencocavalcante/Fuzzy-Logic/blob/90c9f4ea04cee22074c3e8d8f5678eb7965bc230/Questions/2chapter-problem5.PNG?raw=true\" width = 600 align=\"left\">\n"
      ],
      "metadata": {
        "id": "3AiZIbZ8OJFb"
      }
    },
    {
      "cell_type": "markdown",
      "source": [
        "SOLUÇÃO:\n",
        "\n",
        "<img src=\"https://github.com/lourencocavalcante/Fuzzy-Logic/blob/391fb73b4392fac69d9d3460542f73336860aa43/Questions/Solutions/cap2_solution5.JPG?raw=true\" width = 400 align=\"left\">"
      ],
      "metadata": {
        "id": "pC7RCUV2d25-"
      }
    },
    {
      "cell_type": "markdown",
      "source": [
        "## **Problem 6**\n",
        "\n",
        "<img src=\"https://github.com/lourencocavalcante/Fuzzy-Logic/blob/90c9f4ea04cee22074c3e8d8f5678eb7965bc230/Questions/2chapter-problem6.PNG?raw=true\" width = 600 align=\"left\">"
      ],
      "metadata": {
        "id": "ie7_2zIQOd-0"
      }
    },
    {
      "cell_type": "markdown",
      "source": [
        "SOLUÇÃO:\n",
        "\n",
        "<img src=\"https://github.com/lourencocavalcante/Fuzzy-Logic/blob/391fb73b4392fac69d9d3460542f73336860aa43/Questions/Solutions/cap2_solution5AND6.JPG?raw=true\" width = 400 align=\"left\">"
      ],
      "metadata": {
        "id": "hrUeLoPYfhUs"
      }
    },
    {
      "cell_type": "markdown",
      "source": [
        "## **Problem 7**\n",
        "\n",
        "<img src=\"https://github.com/lourencocavalcante/Fuzzy-Logic/blob/90c9f4ea04cee22074c3e8d8f5678eb7965bc230/Questions/2chapter-problem7.PNG?raw=true\" width = 600 align=\"left\">"
      ],
      "metadata": {
        "id": "PsVvElhTOg-z"
      }
    },
    {
      "cell_type": "markdown",
      "source": [
        "Calcular fuzzy set de A:"
      ],
      "metadata": {
        "id": "qAWRBH5tT2Wj"
      }
    },
    {
      "cell_type": "code",
      "source": [
        "from math import sqrt\n",
        "from turtle import color\n",
        "import numpy as np\n",
        "import math\n",
        "import matplotlib.pyplot as plt"
      ],
      "metadata": {
        "id": "66I_39TzNz29"
      },
      "execution_count": null,
      "outputs": []
    },
    {
      "cell_type": "code",
      "source": [
        "resultA = np.zeros((4))\n",
        "resultA[0] = 0\n",
        "\n",
        "resultA[1] = 0\n",
        "\n",
        "resultA[2] = (16-15)\n",
        "resultA[2] = math.pow(resultA[2], -2)\n",
        "resultA[2] = resultA[2] + 1\n",
        "resultA[2] = 1 / resultA[2]\n",
        "\n",
        "resultA[3] = (17-15)\n",
        "resultA[3] = math.pow(resultA[3], -2)\n",
        "resultA[3] = resultA[3] + 1\n",
        "resultA[3] = 1 / resultA[3]\n",
        "print('miA = {'+str(resultA[0])+'/14 + '+str(resultA[1])+'/15 + '+str(resultA[2])+'/16 + '+str(resultA[3])+'/17}')"
      ],
      "metadata": {
        "colab": {
          "base_uri": "https://localhost:8080/"
        },
        "id": "ncQX9TN1OQxr",
        "outputId": "c7d2bb8a-4f20-4295-b42c-4439c6c2ae6a"
      },
      "execution_count": null,
      "outputs": [
        {
          "output_type": "stream",
          "name": "stdout",
          "text": [
            "miA = {0.0/14 + 0.0/15 + 0.5/16 + 0.8/17}\n"
          ]
        }
      ]
    },
    {
      "cell_type": "markdown",
      "source": [
        "Calcular fuzzy set de B:"
      ],
      "metadata": {
        "id": "uawlpbqyOljw"
      }
    },
    {
      "cell_type": "code",
      "source": [
        "resultB = np.zeros((4))\n",
        "resultB[0] = (14-17)\n",
        "resultB[0] = math.pow(resultB[0], 4)\n",
        "resultB[0] = resultB[0] + 1\n",
        "resultB[0] = 1 / resultB[0]\n",
        "\n",
        "resultB[1] = (15-17)\n",
        "resultB[1] = math.pow(resultB[1], 4)\n",
        "resultB[1] = resultB[1] + 1\n",
        "resultB[1] = 1 / resultB[1]\n",
        "\n",
        "resultB[2] = (16-17)\n",
        "resultB[2] = math.pow(resultB[2], 4)\n",
        "resultB[2] = resultB[2] + 1\n",
        "resultB[2] = 1 / resultB[2]\n",
        "\n",
        "resultB[3] = (17-17)\n",
        "resultB[3] = math.pow(resultB[3], 4)\n",
        "resultB[3] = resultB[3] + 1\n",
        "resultB[3] = 1 / resultB[3]\n",
        "print('miB = {'+str(resultB[0])+'/14 + '+str(resultB[1])+'/15 + '+str(resultB[2])+'/16 + '+str(resultB[3])+'/17}')"
      ],
      "metadata": {
        "colab": {
          "base_uri": "https://localhost:8080/"
        },
        "id": "jpLiH1y0OpxZ",
        "outputId": "81870f5d-0062-4409-b761-4a389c199a09"
      },
      "execution_count": null,
      "outputs": [
        {
          "output_type": "stream",
          "name": "stdout",
          "text": [
            "miB = {0.012195121951219513/14 + 0.058823529411764705/15 + 0.5/16 + 1.0/17}\n"
          ]
        }
      ]
    },
    {
      "cell_type": "code",
      "source": [
        "resultC = np.zeros((4))\n",
        "for i in range(0,4):\n",
        "    if resultA[i] < resultB[i]:\n",
        "        resultC[i] = resultA[i]\n",
        "    else:\n",
        "        resultC[i] = resultB[i]\n",
        "\n",
        "print('miC = {'+str(resultC[0])+'/14 + '+str(resultC[1])+'/15 + '+str(resultC[2])+'/16 + '+str(resultC[3])+'/17}')"
      ],
      "metadata": {
        "colab": {
          "base_uri": "https://localhost:8080/"
        },
        "id": "tVZJHZ1CO2Uz",
        "outputId": "37ba999f-7efb-4173-8426-8cf7a0f442e7"
      },
      "execution_count": null,
      "outputs": [
        {
          "output_type": "stream",
          "name": "stdout",
          "text": [
            "miC = {0.0/14 + 0.0/15 + 0.5/16 + 0.8/17}\n"
          ]
        }
      ]
    },
    {
      "cell_type": "markdown",
      "source": [
        "Produto Algébrico:"
      ],
      "metadata": {
        "id": "UJIQO-LfO6ov"
      }
    },
    {
      "cell_type": "code",
      "source": [
        "resultC = np.zeros((4))\n",
        "for i in range(0,4):\n",
        "    resultC[i] = resultA[i] * resultB[i] \n",
        "\n",
        "print('miC = {'+str(resultC[0])+'/14 + '+str(resultC[1])+'/15 + '+str(resultC[2])+'/16 + '+str(resultC[3])+'/17}')"
      ],
      "metadata": {
        "colab": {
          "base_uri": "https://localhost:8080/"
        },
        "id": "EVcDPDQVPCm9",
        "outputId": "7929ec2c-27e3-4c66-daf5-f578d9f3adf4"
      },
      "execution_count": null,
      "outputs": [
        {
          "output_type": "stream",
          "name": "stdout",
          "text": [
            "miC = {0.0/14 + 0.0/15 + 0.25/16 + 0.8/17}\n"
          ]
        }
      ]
    },
    {
      "cell_type": "markdown",
      "source": [
        "## **Problem 8**\n",
        "\n",
        "<img src=\"https://github.com/lourencocavalcante/Fuzzy-Logic/blob/90c9f4ea04cee22074c3e8d8f5678eb7965bc230/Questions/2chapter-problem8.PNG?raw=true\" width = 600 align=\"left\">"
      ],
      "metadata": {
        "id": "bNSPUeWsOkp7"
      }
    },
    {
      "cell_type": "markdown",
      "source": [
        "## **Problem 9**\n",
        "\n",
        "<img src=\"https://github.com/lourencocavalcante/Fuzzy-Logic/blob/90c9f4ea04cee22074c3e8d8f5678eb7965bc230/Questions/2chapter-problem9.PNG?raw=true\" width = 600 align=\"left\">"
      ],
      "metadata": {
        "id": "Iw--Y5JeO2T1"
      }
    },
    {
      "cell_type": "markdown",
      "source": [
        "## **Problem 11**\n",
        "\n",
        "<img src=\"https://github.com/lourencocavalcante/Fuzzy-Logic/blob/90c9f4ea04cee22074c3e8d8f5678eb7965bc230/Questions/2chapter-problem11.PNG?raw=true\" width = 600 align=\"left\">"
      ],
      "metadata": {
        "id": "Ij1CLkVaO6hk"
      }
    },
    {
      "cell_type": "markdown",
      "source": [
        "Possível solução (proposta pelo discente LEANDRO)"
      ],
      "metadata": {
        "id": "onI1rrqIUWcd"
      }
    },
    {
      "cell_type": "code",
      "source": [
        "#Importação das bibliotecas necessárias\n",
        "from mpl_toolkits import mplot3d\n",
        "import numpy as np\n",
        "import matplotlib.pyplot as plt\n",
        "import math\n",
        "\n",
        "#--------------------------------------\n",
        "def f(x,y):\n",
        "    return (((x**2)/4)+((y**2)/2))** 0.5\n",
        "\n",
        "u = np.linspace(-2,2,10)\n",
        "v = np.linspace(-2,2,10)\n",
        "u, v = np.meshgrid(u,v)\n",
        "\n",
        "x=u\n",
        "y=v\n",
        "z=f(u,v)\n",
        "\n",
        "fig = plt.figure()\n",
        "\n",
        "ax = plt.axes(projection='3d')\n",
        "ax.contour3D(x,y,z,30)\n",
        "plt.show()"
      ],
      "metadata": {
        "id": "bWPH4hWQUP_i",
        "outputId": "113c92f3-b6db-4b19-bd44-66ed724f329d",
        "colab": {
          "base_uri": "https://localhost:8080/",
          "height": 248
        }
      },
      "execution_count": null,
      "outputs": [
        {
          "output_type": "display_data",
          "data": {
            "text/plain": [
              "<Figure size 432x288 with 1 Axes>"
            ],
            "image/png": "[encoded data removed]"
          },
          "metadata": {
            "needs_background": "light"
          }
        }
      ]
    },
    {
      "cell_type": "markdown",
      "source": [
        "\n",
        "\n",
        "---\n",
        "\n"
      ],
      "metadata": {
        "id": "Oyvq-oW2f2it"
      }
    },
    {
      "cell_type": "markdown",
      "source": [
        "# **Chapter 3 problems**"
      ],
      "metadata": {
        "id": "IbmV9RPxM7F0"
      }
    },
    {
      "cell_type": "markdown",
      "source": [
        "## **Problem 1**"
      ],
      "metadata": {
        "id": "nMem8ZPUfh6N"
      }
    },
    {
      "cell_type": "markdown",
      "source": [
        "<img src=\"https://github.com/lourencocavalcante/Fuzzy-Logic/blob/90c9f4ea04cee22074c3e8d8f5678eb7965bc230/Questions/3chapter-problem1.PNG?raw=true\" width = 650 align=\"left\">\n"
      ],
      "metadata": {
        "id": "xGj6L240Nu0r"
      }
    },
    {
      "cell_type": "markdown",
      "source": [
        "SOLUÇÃO:\n",
        "\n",
        "<img src=\"https://github.com/lourencocavalcante/Fuzzy-Logic/blob/391fb73b4392fac69d9d3460542f73336860aa43/Questions/Solutions/cap3_solutionQ1a.JPG?raw=true\" width = 400 align=\"left\">\n",
        "\n",
        "<img src=\"https://github.com/lourencocavalcante/Fuzzy-Logic/blob/391fb73b4392fac69d9d3460542f73336860aa43/Questions/Solutions/cap3_solutionQ1b.JPG?raw=true\" width = 400 align=\"left\">\n",
        "\n",
        "<img src=\"https://github.com/lourencocavalcante/Fuzzy-Logic/blob/391fb73b4392fac69d9d3460542f73336860aa43/Questions/Solutions/cap3_solutionQ1c.JPG?raw=true\" width = 400 align=\"left\">"
      ],
      "metadata": {
        "id": "4DFK_t22fwP-"
      }
    },
    {
      "cell_type": "markdown",
      "source": [
        "\n",
        "\n",
        "---\n",
        "\n"
      ],
      "metadata": {
        "id": "c-vJhmzff4Vd"
      }
    },
    {
      "cell_type": "markdown",
      "source": [
        "# **Chapter 5 problems**"
      ],
      "metadata": {
        "id": "tzJ72M9TfbKl"
      }
    },
    {
      "cell_type": "markdown",
      "source": [
        "## **Problem 2**"
      ],
      "metadata": {
        "id": "3YVTVkHU9azJ"
      }
    },
    {
      "cell_type": "markdown",
      "source": [
        "<img src=\"https://github.com/lourencocavalcante/Fuzzy-Logic/blob/28896fe9d7efc622a4918a18eb6922157abb40af/Questions/5chapter-problem2.PNG?raw=true\" width = 650 align=\"left\">"
      ],
      "metadata": {
        "id": "f5cGljqhfkjm"
      }
    },
    {
      "cell_type": "markdown",
      "source": [
        "## **Problem 3**\n",
        "\n",
        "<img src=\"https://github.com/lourencocavalcante/Fuzzy-Logic/blob/05fb320ff03752e3ac19c450a4516158040e0a6c/Questions/5chapter-problem3.PNG?raw=true\" width = 650 align=\"left\">"
      ],
      "metadata": {
        "id": "uYRVAvdffrft"
      }
    },
    {
      "cell_type": "markdown",
      "source": [
        "\n",
        "\n",
        "---\n",
        "\n"
      ],
      "metadata": {
        "id": "8Rqx4bV9f6UW"
      }
    },
    {
      "cell_type": "markdown",
      "source": [
        "# **Chapter 6 problems**"
      ],
      "metadata": {
        "id": "P6QPonGwfvvx"
      }
    },
    {
      "cell_type": "markdown",
      "source": [
        "## **Problem 1**"
      ],
      "metadata": {
        "id": "cqemt3qqfvvy"
      }
    },
    {
      "cell_type": "markdown",
      "source": [
        "<img src=\"https://github.com/lourencocavalcante/Fuzzy-Logic/blob/28896fe9d7efc622a4918a18eb6922157abb40af/Questions/6chapter-problem1a.PNG?raw=true\" width = 650 align=\"left\">\n"
      ],
      "metadata": {
        "id": "IqVd1OxR-EH4"
      }
    },
    {
      "cell_type": "markdown",
      "source": [
        "<img src=\"https://github.com/lourencocavalcante/Fuzzy-Logic/blob/28896fe9d7efc622a4918a18eb6922157abb40af/Questions/6chapter-problem1b.PNG?raw=true\" width = 650 align=\"left\">"
      ],
      "metadata": {
        "id": "jwDQI7Ly-Poo"
      }
    },
    {
      "cell_type": "code",
      "source": [],
      "metadata": {
        "id": "pO0VNMhaNIIj"
      },
      "execution_count": null,
      "outputs": []
    },
    {
      "cell_type": "code",
      "source": [],
      "metadata": {
        "id": "H49KxjFdNH6r"
      },
      "execution_count": null,
      "outputs": []
    },
    {
      "cell_type": "markdown",
      "metadata": {
        "id": "33jPwgUyd9iL"
      },
      "source": [
        "# **Referências**\n",
        "\n",
        "1. Grint, K. (1997). Fuzzy management: contemporary ideas and practices at work New York: Oxford.\n",
        "\n",
        "2. Lefteri H. Tsoukalas and Robert E. Uhrig. 1996. Fuzzy and Neural Approaches in Engineering (1st. ed.). John Wiley &amp; Sons, Inc., USA.\n",
        "\n",
        "3. Wuerges, Artur Filipe Ewald e Borba, José AlonsoRedes neurais, lógica nebulosa e algoritmos genéticos: aplicações e possibilidades em finanças e contabilidade. JISTEM - Journal of Information Systems and Technology Management [online]. 2010, v. 7, n. 1 [Acessado 9 Novembro 2022] , pp. 163-182. Disponível em: <https://doi.org/10.4301/S1807-17752010000100007>. Epub 22 Nov 2010. ISSN 1807-1775. https://doi.org/10.4301/S1807-17752010000100007."
      ]
    }
  ],
  "metadata": {
    "accelerator": "GPU",
    "colab": {
      "provenance": [],
      "machine_shape": "hm",
      "include_colab_link": true
    },
    "gpuClass": "standard",
    "kernelspec": {
      "display_name": "Python 3",
      "name": "python3"
    },
    "language_info": {
      "name": "python"
    }
  },
  "nbformat": 4,
  "nbformat_minor": 0
}