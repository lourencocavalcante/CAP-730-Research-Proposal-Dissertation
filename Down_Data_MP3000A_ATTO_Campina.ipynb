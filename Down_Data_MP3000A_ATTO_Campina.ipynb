{
  "cells": [
    {
      "cell_type": "markdown",
      "metadata": {
        "id": "view-in-github",
        "colab_type": "text"
      },
      "source": [
        "<a href=\"https://colab.research.google.com/github/lourencocavalcante/CAP-Dissertation-Complementary-studies/blob/main/Down_Data_MP3000A_ATTO_Campina.ipynb\" target=\"_parent\"><img src=\"https://colab.research.google.com/assets/colab-badge.svg\" alt=\"Open In Colab\"/></a>"
      ]
    },
    {
      "cell_type": "markdown",
      "metadata": {
        "id": "OCGrfcaNk9Ju"
      },
      "source": [
        "[<img src=\"https://github.com/lourencocavalcante/LogosINPE/blob/main/logoinpe.png?raw=true\" width = 500 align=\"left\">](https://www.gov.br/inpe/pt-br)\n",
        "\n",
        "[<img src=\"https://github.com/lourencocavalcante/LogosINPE/blob/main/LogoCAP.png?raw=true\" width = 300 align=\"right\">](http://www.inpe.br/posgraduacao/cap/)"
      ]
    },
    {
      "cell_type": "markdown",
      "metadata": {
        "id": "ect6m7UiI28E"
      },
      "source": [
        "# <span style=\"color:#336699; text-align: center;\">MP3000A: Download e visualização dos dados  (Index of /ftp/public/ATTO/Campina/MP3000)</span>\n",
        "<hr style=\"border:2px solid #0077b9;\">\n",
        "\n",
        "<br/>\n",
        "\n",
        "<div style=\"text-align: center;font-size: 110%;\">\n",
        "    <b>Download e visualização dos dados</b>\n",
        "    <br/>\n",
        "    <b>Docente:</b> Dr. Alan James\n",
        "    <br/><br/>\n",
        "    <b>Discente:</b> Lourenço José Cavalcante Neto\n",
        "    <br/>\n",
        "    <b>E-mail:</b> <a href=\"mailto:lourenco.cavalcante@ifto.edu.b\">lourenco.cavalcante@ifto.edu.br</a>\n",
        "\n",
        "</div>\n",
        "\n",
        "<br/>\n",
        "\n",
        "<div style=\"text-align: justify;  margin-left: 20%; margin-right: 20%;\">\n",
        "<b>Objetivo: </b> O principal objetivo deste caderno notebook é baixar (via FTP) e visualizar os dados do Radiômetro de microondas terreste (Modelo MP-3000A), instalado no sítio Campina (S 02 10.9142 W 059 1.3063), no qual faz parte da composição do projeto Amazonian Tall Tower Observatory  (ATTO).\n",
        "</div>"
      ]
    },
    {
      "cell_type": "markdown",
      "metadata": {
        "id": "nFcD5Gx3Vuyz"
      },
      "source": [
        "<span style=\"text-align: center;\"> Este caderno notebook também pode ser visualizado no **Github**,  [Clicando aqui](https://github.com/lourencocavalcante/CAP-Dissertation-Complementary-studies.git) </span>"
      ]
    },
    {
      "cell_type": "markdown",
      "source": [
        "# **Radiômetro de microondas terreste - Modelo MP3000A**"
      ],
      "metadata": {
        "id": "66PyRnagA772"
      }
    },
    {
      "cell_type": "markdown",
      "metadata": {
        "id": "7Okfq4RbVmXD"
      },
      "source": [
        "O radiômetro MP3000A mede a temperatura de brilho atmosférico, a partir da qual podem ser derivados perfis verticais de temperatura e umidade de alta resolução e perfis de água líquida de baixa resolução da superfície até 10 km de altura. Esta sondagem atmosférica é útil para previsão do tempo e previsão de clima (Radiometrics, 2008; Madhulatha et al, 2013). As recuperações de perfil derivadas das medições do radiômetro são avaliadas por uma rede neural artificial cuja precisão diminui à medida que a altitude aumenta, diferentemente de radiossondas.\n",
        "\n",
        "O instrumento incorpora dois subsistemas de microondas que compartilham a mesma antena e sistema apontador. O subsistema de perfil de temperatura usa observações de temperaturas de brilho do céu em frequências selecionadas que variam de 51 a 59 GHz (complexo de absorção de oxigênio). O subsistema de perfis de vapor de água usa observações de temperaturas de brilho do céu em frequências entre 22 e 30 GHz (linha de absorção de vapor de água) (Solheim et al, 1998; Ware et al, 2003).\n",
        "\n",
        "O MP3000A conta com sensores meteorológicos de superfície, que medem temperatura do ar, umidade relativa, pressão barométrica e ocorrência de chuva a partir de um sensor de chuva. Além disso, um termômetro infravermelho apontando para o zênite é montado internamente para melhorar a precisão dos perfis de densidade de vapor d'água e água líquida.\n",
        "\n",
        "Para medir o ganho do sistema, o instrumento possui sinal gerado por fontes de ruído (diodos), durante seu funcionamento normal. Quando os diodos são ativados, um nível de temperatura de brilho calibrado é adicionado à cena em cada observação. Além disso, o MP3000A utiliza um alvo de referência interno, ajustado à temperatura ambiente (usado como um corpo negro), que fornece padrões primários conhecidos para cada medição e trabalha em conjunto com um alvo criogênico externo que fornece padrões absolutos de calibração para os diodos."
      ]
    },
    {
      "cell_type": "markdown",
      "source": [
        "\n",
        "\n",
        "---\n",
        "\n"
      ],
      "metadata": {
        "id": "dUu-KLFffzCV"
      }
    },
    {
      "cell_type": "markdown",
      "source": [
        "# **Importa as bibliotecas**"
      ],
      "metadata": {
        "id": "qAWRBH5tT2Wj"
      }
    },
    {
      "cell_type": "code",
      "source": [
        "import pandas as pd\n",
        "import xarray as xr\n",
        "import numpy as np\n",
        "import matplotlib.pyplot as plt\n",
        "import os\n",
        "import matplotlib\n",
        "from matplotlib.patches import Polygon\n",
        "from matplotlib.collections import PatchCollection\n",
        "from datetime import datetime, timedelta\n",
        "\n",
        "import matplotlib\n",
        "matplotlib.rcParams.update({'font.size':22})\n",
        "from matplotlib import pyplot as plt\n",
        "from matplotlib.colors import LinearSegmentedColormap # interpolação linear para cores\n",
        "from netCDF4 import Dataset  \n",
        "import warnings\n",
        "import seaborn as sns\n",
        "warnings.filterwarnings(\"ignore\")"
      ],
      "metadata": {
        "id": "66I_39TzNz29"
      },
      "execution_count": 1,
      "outputs": []
    },
    {
      "cell_type": "markdown",
      "metadata": {
        "id": "Z8w6Sb9iL5tq"
      },
      "source": [
        "# **Conexão com o Drive e definição do caminho da pasta salvar os dados**"
      ]
    },
    {
      "cell_type": "code",
      "execution_count": 2,
      "metadata": {
        "id": "3Zh-3lrqepKP",
        "colab": {
          "base_uri": "https://localhost:8080/"
        },
        "outputId": "a37e1884-48df-4cf6-a173-311ef42afe0b"
      },
      "outputs": [
        {
          "output_type": "stream",
          "name": "stdout",
          "text": [
            "Mounted at /content/drive\n"
          ]
        }
      ],
      "source": [
        "from google.colab import drive\n",
        "drive.mount('/content/drive')"
      ]
    },
    {
      "cell_type": "code",
      "execution_count": 3,
      "metadata": {
        "id": "qfVARDM0L53A"
      },
      "outputs": [],
      "source": [
        "# Define o caminho do drive. Pasta para a saída das Figuras geradas que serão usadas na CNN\n",
        "path_data_mp3000a = f'/content/drive/MyDrive/MestradoCAP/2023/Dados-Campina-ATTO/MP-3000A'"
      ]
    },
    {
      "cell_type": "markdown",
      "source": [
        "\n",
        "\n",
        "---\n",
        "\n"
      ],
      "metadata": {
        "id": "Oyvq-oW2f2it"
      }
    },
    {
      "cell_type": "markdown",
      "metadata": {
        "id": "LII4bfBDtx6j"
      },
      "source": [
        "## **Baixando os dados:**\n",
        "\n"
      ]
    },
    {
      "cell_type": "markdown",
      "source": [
        "Vamos definir a data e a hora dos dados para download e posterior visualização."
      ],
      "metadata": {
        "id": "XyX_YixCtt78"
      }
    },
    {
      "cell_type": "code",
      "source": [
        "# O ano, mês, dia, hora, minuto e segundo são definidos como variáveis, \n",
        "# enquanto o nível é definido como um intervalo de números. \n",
        "\n",
        "ano = '2021'\n",
        "mes = '07'\n",
        "dia = '27'\n",
        "hora = '18'\n",
        "min = '13'\n",
        "seg = '01'\n",
        "level = range(3)"
      ],
      "metadata": {
        "id": "p_KxG5NEouyO"
      },
      "execution_count": 4,
      "outputs": []
    },
    {
      "cell_type": "markdown",
      "source": [
        "Vamos baixar os dados."
      ],
      "metadata": {
        "id": "H0ZzeCiot5xG"
      }
    },
    {
      "cell_type": "code",
      "execution_count": 6,
      "metadata": {
        "id": "ZR1k_WEzEHlC",
        "colab": {
          "base_uri": "https://localhost:8080/"
        },
        "outputId": "2dfe8181-7161-421d-aaf9-d2dd8e1781fb"
      },
      "outputs": [
        {
          "output_type": "stream",
          "name": "stdout",
          "text": [
            "--2023-01-30 18:34:54--  http://ftp.lfa.if.usp.br/ftp/public/ATTO/Campina/MP3000/2021-07-27_18-13-01_lv0.csv\n",
            "Resolving ftp.lfa.if.usp.br (ftp.lfa.if.usp.br)... 143.107.131.83\n",
            "Connecting to ftp.lfa.if.usp.br (ftp.lfa.if.usp.br)|143.107.131.83|:80... connected.\n",
            "HTTP request sent, awaiting response... 416 Requested Range Not Satisfiable\n",
            "\n",
            "    The file is already fully retrieved; nothing to do.\n",
            "\n",
            "--2023-01-30 18:34:54--  http://ftp.lfa.if.usp.br/ftp/public/ATTO/Campina/MP3000/2021-07-27_18-13-01_lv1.csv\n",
            "Resolving ftp.lfa.if.usp.br (ftp.lfa.if.usp.br)... 143.107.131.83\n",
            "Connecting to ftp.lfa.if.usp.br (ftp.lfa.if.usp.br)|143.107.131.83|:80... connected.\n",
            "HTTP request sent, awaiting response... 416 Requested Range Not Satisfiable\n",
            "\n",
            "    The file is already fully retrieved; nothing to do.\n",
            "\n",
            "--2023-01-30 18:34:55--  http://ftp.lfa.if.usp.br/ftp/public/ATTO/Campina/MP3000/2021-07-27_18-13-01_lv2.csv\n",
            "Resolving ftp.lfa.if.usp.br (ftp.lfa.if.usp.br)... 143.107.131.83\n",
            "Connecting to ftp.lfa.if.usp.br (ftp.lfa.if.usp.br)|143.107.131.83|:80... connected.\n",
            "HTTP request sent, awaiting response... 416 Requested Range Not Satisfiable\n",
            "\n",
            "    The file is already fully retrieved; nothing to do.\n",
            "\n"
          ]
        }
      ],
      "source": [
        "# Endereço do FTP do ATTO/Campina/MP3000\n",
        "ftp_ATTO_campina = 'ftp.lfa.if.usp.br'\n",
        "# ---------------------------------------------------------- #\n",
        "#              BAIXANDO DADOS DO MP-3000A\n",
        "# ---------------------------------------------------------- #\n",
        "\n",
        "for level_n in level:\n",
        "\n",
        "  # Nome do arquivo\n",
        "  file_ir =  f'{ftp_ATTO_campina}/ftp/public/ATTO/Campina/MP3000/{ano}-{mes}-{dia}_{hora}-{min}-{seg}_lv{level_n}.csv'\n",
        "\n",
        "  # Download dos arquivos\n",
        "  !wget -c {file_ir} -P /content/drive/MyDrive/MestradoCAP/2023/Dados-Campina-ATTO/MP-3000A"
      ]
    },
    {
      "cell_type": "markdown",
      "metadata": {
        "id": "33jPwgUyd9iL"
      },
      "source": [
        "# **Referências**\n",
        "\n",
        "1. [...]"
      ]
    }
  ],
  "metadata": {
    "accelerator": "GPU",
    "colab": {
      "provenance": [],
      "machine_shape": "hm",
      "include_colab_link": true
    },
    "gpuClass": "standard",
    "kernelspec": {
      "display_name": "Python 3",
      "name": "python3"
    },
    "language_info": {
      "name": "python"
    }
  },
  "nbformat": 4,
  "nbformat_minor": 0
}