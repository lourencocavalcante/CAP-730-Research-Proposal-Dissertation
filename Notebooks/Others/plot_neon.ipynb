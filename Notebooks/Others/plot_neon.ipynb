{
  "cells": [
    {
      "cell_type": "code",
      "execution_count": 1,
      "metadata": {
        "collapsed": false
      },
      "outputs": [],
      "source": [
        "%matplotlib inline"
      ]
    },
    {
      "cell_type": "markdown",
      "metadata": {},
      "source": [
        "\n",
        "# NEON Data\n",
        "\n",
        "This example shows how to download data from\n",
        "NEON and ARM 2m surface meteorology stations\n",
        "on the North Slope and plot them\n"
      ]
    },
    {
      "cell_type": "code",
      "execution_count": null,
      "metadata": {},
      "outputs": [],
      "source": [
        "%pip install act-atmos"
      ]
    },
    {
      "cell_type": "code",
      "execution_count": null,
      "metadata": {
        "collapsed": false
      },
      "outputs": [],
      "source": [
        "import matplotlib.pyplot as plt\n",
        "import xarray as xr\n",
        "\n",
        "import act\n",
        "\n",
        "# Set up plot space ahead of time\n",
        "fig, ax = plt.subplots(3, figsize=(10, 7))\n",
        "\n",
        "# Plotting up high-temporal resolution 2D data can be very slow at times.\n",
        "# In order to increase the speed, the data can be resampled to a courser\n",
        "# resolution prior to plotting.  Using Xarray's resample and selecting\n",
        "# the nearest neighbor will greatly increase the speed.\n",
        "from netCDF4 import MFDataset\n",
        "\n",
        "obj = act.io.armfiles.read_netcdf('maomwrlosM1.b1.20151117.000031.cdf')\n",
        "\n",
        "obj = obj.resample(time='5min').nearest()\n",
        "#print(obj.variables)\n",
        "\n",
        "#print(obj)\n",
        "\n",
        "# These data can be plotted up using the existing xarray functionality\n",
        "# which is quick and easy\n",
        "obj['sky31'].plot(x='time', ax=ax[0])\n",
        "\n",
        "# or using ACT\n",
        "display = act.plotting.TimeSeriesDisplay(obj)\n",
        "display.assign_to_figure_axis(fig, ax[1])\n",
        "display.plot('sky31')\n",
        "\n",
        "# When using ACT, the axis object can also be manipulated using normal\n",
        "# matplotlib calls for more personalized customizations\n",
        "display = act.plotting.TimeSeriesDisplay(obj)\n",
        "display.assign_to_figure_axis(fig, ax[2])\n",
        "display.plot('sky31')\n",
        "display.axes[-1].set_ylim([0, 1500])\n",
        "\n",
        "plt.show()"
      ]
    },
    {
      "cell_type": "code",
      "execution_count": null,
      "metadata": {},
      "outputs": [],
      "source": [
        "# plot_temperature.py\n",
        "# Example code to plot ARM NetCDF data\n",
        "# First import the NetCDF4 package\n",
        "from netCDF4 import Dataset\n",
        "from netCDF4 import MFDataset\n",
        "\n",
        "# Next import plotting functions\n",
        "from pylab import *\n",
        "# Load the NetCDF file into a data object\n",
        "#data = MFDataset('/home/maou/Área de Trabalho/Victor/Estágio/Dados de Satelite/*.09.2015 Antartica.nc', mode='r') **#Aqui eu gostaria de colocar outros 29 dados e não sei como.**\n",
        "\n",
        "#nc_file = Dataset('maomwrlosM1.b1.20151117.000031.cdf','r',format='NETCDF4_CLASSIC')\n",
        "nc_file = MFDataset('L:/GitHub/CAP-Dissertation-Complementary-studies/Notebooks/data/maomwrlosM1.b1.*.cdf','r')\n",
        "#print(nc_file.variables)\n",
        "# Load the time and temperature as data objects\n",
        "\n",
        "temp_obj = nc_file.variables['sky31']\n",
        "time_obj = nc_file.variables['time']\n",
        "# Load the time and temperature data into the workspace\n",
        "\n",
        "temperature = temp_obj[:]\n",
        "time = time_obj[:]\n",
        "# Convert the time from seconds since midnight GMT to hours since midnight GMT\n",
        "time_hour = time/3600\n",
        "# Now plot the data\n",
        "# Setup the plot\n",
        "\n",
        "display = plot(figsize=(15, 10))\n",
        "\n",
        "# Plot temperature data in top plot\n",
        "\n",
        "\n",
        "plot(time_hour, temperature)\n",
        "# Limit the axes ranges\n",
        "xlim(0,24)\n",
        "# You can also force the ticks to be at 6-hour intervals (for example)\n",
        "xticks([0,6,12,18,24])\n",
        "# Add axes labels and a title\n",
        "xlabel(\"Hours Since Midnight\")\n",
        "ylabel(\"Temperature (Degrees C)\")\n",
        "title(\"Temperature at Barrow: February 10, 2013\")\n",
        "# Output as a PNG format file\n",
        "savefig('testplot.png', format='png')\n",
        "# When plotting from within a script you have to instruct the script to display the output\n",
        "show()\n",
        "\n",
        "print(nc_file.variables)"
      ]
    },
    {
      "cell_type": "code",
      "execution_count": null,
      "metadata": {},
      "outputs": [],
      "source": [
        "import act\n",
        "import matplotlib.pyplot as plt\n",
        "\n",
        "# Place your username and token here\n",
        "username = 'LourencoCavalcante' \n",
        "token = '311d84bc76093a97' \n",
        "\n",
        "# Download AERIoe data and ceilometer data\n",
        "#act.discovery.download_data('LourencoCavalcante' , '311d84bc76093a97', 'sgpaerioe1turnC1.c1', '2022-02-11', '2022-02-11') \n",
        "#act.discovery.download_data('LourencoCavalcante' , '311d84bc76093a97', 'sgpceilC1.b1', '2022-02-11', '2022-02-11') \n",
        "\n",
        "# Read in AERIoe and ceilometer data\n",
        "aerioe_ds = act.io.armfiles.read_netcdf('sgpaerioe1turnC1.c1/sgpaerioe1turnC1.c1.20220211.000354.nc')\n",
        "ceil_ds = act.io.armfiles.read_netcdf('sgpceilC1.b1/sgpceilC1.b1.20220211.000005.nc')\n",
        "\n",
        "# There isn't information content from the AERI above 3 km\n",
        "# Remove data with a height above 3 km\n",
        "aerioe_ds = aerioe_ds.sel(height=aerioe_ds.coords['height'] <= 3)\n",
        "\n",
        "# Convert Ceilometer cloud base height to km\n",
        "ceil_ds['first_cbh'] = ceil_ds['first_cbh']/1000\n",
        "\n",
        "# Remove first_cbh if it is higher than 3 km\n",
        "ceil_ds['first_cbh'] = ceil_ds['first_cbh'][~(ceil_ds['first_cbh'] > 3)]\n",
        "\n",
        "# Create a TimeSeriesDisplay object\n",
        "display = act.plotting.TimeSeriesDisplay(\n",
        "   {'AERIoe': aerioe_ds, 'Ceilometer': ceil_ds},\n",
        "   subplot_shape=(2,), figsize=(15,10)\n",
        ")\n",
        "\n",
        "# Plot data\n",
        "display.plot('first_cbh', dsname='Ceilometer', marker='+', color='black', markeredgewidth=3,\n",
        "   linewidth=0, subplot_index=(0,), label='cbh')\n",
        "display.plot('temperature', dsname='AERIoe', cmap='viridis', set_shading='nearest',\n",
        "   add_nan=True, subplot_index=(0,))\n",
        "\n",
        "display.plot('first_cbh', dsname='Ceilometer', marker='+', color='black', markeredgewidth=3,\n",
        "   linewidth=0, subplot_index=(1,), label='cbh')\n",
        "display.plot('waterVapor', dsname='AERIoe', cmap='act_HomeyerRainbow', set_shading='nearest',\n",
        "   add_nan=True, subplot_index=(1,))\n",
        "\n",
        "plt.savefig('sgpaerioe1turnC1.c1.20220211.png')"
      ]
    }
  ],
  "metadata": {
    "kernelspec": {
      "display_name": "Python 3",
      "language": "python",
      "name": "python3"
    },
    "language_info": {
      "codemirror_mode": {
        "name": "ipython",
        "version": 3
      },
      "file_extension": ".py",
      "mimetype": "text/x-python",
      "name": "python",
      "nbconvert_exporter": "python",
      "pygments_lexer": "ipython3",
      "version": "3.11.0"
    },
    "vscode": {
      "interpreter": {
        "hash": "07ce037792393486de82b78557509c70dc90bfb6f086cff9f2eca46d4f24b232"
      }
    }
  },
  "nbformat": 4,
  "nbformat_minor": 0
}
