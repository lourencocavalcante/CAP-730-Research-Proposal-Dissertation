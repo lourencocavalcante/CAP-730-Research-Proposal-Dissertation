{
 "cells": [
  {
   "attachments": {},
   "cell_type": "markdown",
   "metadata": {},
   "source": [
    "Microwave Radiometer (MWR) MP3000A data download from GO-AMAZON project on ARM (ATMOSPHERIC RADIATION MEASUREMENT)\n",
    "\n",
    "Description: Microwave Radiometer Retrievals (MWRRET) of Cloud Liquid Water and Precipitable Water Vapor\n",
    "\n",
    "Site: Manacapuru, Amazonas, Brazil; Mobile Facility (GOAMAZON) (MAO)\n",
    "\n",
    "Location: Manacapuru, Amazonas, Brazil; AMF1\n",
    "\n",
    "Facility Code: M1\n",
    "\n",
    "Category: Cloud Properties\n",
    "\n",
    "Data Type: Routine Data \n",
    "\n",
    "Source Instrument/Data: CEIL, INTERPSONDE, MET, MPL, MPLCMASK, MWR, MWRP, MWRRET, SONDE, SONDEGRID, WACRARSCL View Less\n",
    "\n",
    "Sampling Interval: 20.000000 seconds\n",
    "\n",
    "Start Date: 2014-01-08 ------------ End Date: 2015-12-01\n",
    "\n",
    "DOI: 10.5439/1027369"
   ]
  },
  {
   "cell_type": "markdown",
   "metadata": {},
   "source": []
  },
  {
   "attachments": {},
   "cell_type": "markdown",
   "metadata": {},
   "source": [
    "Import the packages\n"
   ]
  },
  {
   "cell_type": "code",
   "execution_count": 12,
   "metadata": {},
   "outputs": [],
   "source": [
    "import act\n",
    "import matplotlib.pyplot as plt\n",
    "\n",
    "# First import the NetCDF4 package\n",
    "from netCDF4 import Dataset\n",
    "from netCDF4 import MFDataset\n",
    "\n",
    "# Next import plotting functions\n",
    "from pylab import *\n",
    "\n",
    "from datetime import date, datetime"
   ]
  },
  {
   "cell_type": "code",
   "execution_count": 13,
   "metadata": {},
   "outputs": [
    {
     "name": "stdout",
     "output_type": "stream",
     "text": [
      "[DOWNLOADING] maomwrret1liljclouM1.c2.20140601.000007.cdf\n"
     ]
    },
    {
     "data": {
      "text/plain": [
       "['l:\\\\GitHub\\\\CAP-Dissertation-Complementary-studies\\\\Notebooks\\\\maomwrret1liljclouM1.c2\\\\maomwrret1liljclouM1.c2.20140601.000007.cdf']"
      ]
     },
     "execution_count": 13,
     "metadata": {},
     "output_type": "execute_result"
    }
   ],
   "source": [
    "data = datetime.today()\n",
    "hoje = data.strftime('%d-%m-%Y')\n",
    "hora = data.strftime('%H-%M-%S')\n",
    "\n",
    "# Place your username and token here\n",
    "my_arm_username = 'LourencoCavalcante' \n",
    "api_access_token = '311d84bc76093a97' #https://adc.arm.gov/armlive/register\n",
    "\n",
    "#Site: Manacapuru, Amazonas, Brazil; Mobile Facility (GOAMAZON) (MAO)\n",
    "# GO - AMAZON (Start: 2014-01-08 for End: 2015-12-01)\n",
    "datastream = 'maomwrret1liljclouM1.c2' #maomwrlosM1.b1 or maomwrret1liljclouM1.c2\n",
    "date_start = '2014-06-01' \n",
    "date_end = '2014-06-01'\n",
    "\n",
    "# Download MWR data on ARM\n",
    "act.discovery.download_data(my_arm_username, api_access_token, datastream, date_start, date_end) "
   ]
  },
  {
   "attachments": {},
   "cell_type": "markdown",
   "metadata": {},
   "source": [
    "Code to plot ARM NetCDF data"
   ]
  },
  {
   "cell_type": "code",
   "execution_count": 14,
   "metadata": {},
   "outputs": [
    {
     "ename": "KeyError",
     "evalue": "'vap'",
     "output_type": "error",
     "traceback": [
      "\u001b[1;31m---------------------------------------------------------------------------\u001b[0m",
      "\u001b[1;31mKeyError\u001b[0m                                  Traceback (most recent call last)",
      "File \u001b[1;32mc:\\ProgramData\\Miniconda3\\envs\\act_env\\Lib\\site-packages\\xarray\\core\\dataset.py:1347\u001b[0m, in \u001b[0;36mDataset._construct_dataarray\u001b[1;34m(self, name)\u001b[0m\n\u001b[0;32m   1346\u001b[0m \u001b[39mtry\u001b[39;00m:\n\u001b[1;32m-> 1347\u001b[0m     variable \u001b[39m=\u001b[39m \u001b[39mself\u001b[39;49m\u001b[39m.\u001b[39;49m_variables[name]\n\u001b[0;32m   1348\u001b[0m \u001b[39mexcept\u001b[39;00m \u001b[39mKeyError\u001b[39;00m:\n",
      "\u001b[1;31mKeyError\u001b[0m: 'vap'",
      "\nDuring handling of the above exception, another exception occurred:\n",
      "\u001b[1;31mKeyError\u001b[0m                                  Traceback (most recent call last)",
      "Cell \u001b[1;32mIn[14], line 22\u001b[0m\n\u001b[0;32m     16\u001b[0m display \u001b[39m=\u001b[39m act\u001b[39m.\u001b[39mplotting\u001b[39m.\u001b[39mTimeSeriesDisplay(\n\u001b[0;32m     17\u001b[0m    {\u001b[39m'\u001b[39m\u001b[39m20151119\u001b[39m\u001b[39m'\u001b[39m: aerioe_ds, \u001b[39m'\u001b[39m\u001b[39m20151120\u001b[39m\u001b[39m'\u001b[39m: ceil_ds},\n\u001b[0;32m     18\u001b[0m    subplot_shape\u001b[39m=\u001b[39m(\u001b[39m2\u001b[39m,), figsize\u001b[39m=\u001b[39m(\u001b[39m12\u001b[39m,\u001b[39m10\u001b[39m)\n\u001b[0;32m     19\u001b[0m )\n\u001b[0;32m     21\u001b[0m \u001b[39m# Plot data\u001b[39;00m\n\u001b[1;32m---> 22\u001b[0m display\u001b[39m.\u001b[39;49mplot(\u001b[39m'\u001b[39;49m\u001b[39mvap\u001b[39;49m\u001b[39m'\u001b[39;49m, dsname\u001b[39m=\u001b[39;49m\u001b[39m'\u001b[39;49m\u001b[39m20151119\u001b[39;49m\u001b[39m'\u001b[39;49m, marker\u001b[39m=\u001b[39;49m\u001b[39m'\u001b[39;49m\u001b[39m+\u001b[39;49m\u001b[39m'\u001b[39;49m, markeredgewidth\u001b[39m=\u001b[39;49m\u001b[39m1\u001b[39;49m,\n\u001b[0;32m     23\u001b[0m    linewidth\u001b[39m=\u001b[39;49m\u001b[39m0\u001b[39;49m, subplot_index\u001b[39m=\u001b[39;49m(\u001b[39m0\u001b[39;49m,), label\u001b[39m=\u001b[39;49m\u001b[39m'\u001b[39;49m\u001b[39mcbh\u001b[39;49m\u001b[39m'\u001b[39;49m)\n\u001b[0;32m     24\u001b[0m display\u001b[39m.\u001b[39mplot(\u001b[39m'\u001b[39m\u001b[39mvap\u001b[39m\u001b[39m'\u001b[39m, dsname\u001b[39m=\u001b[39m\u001b[39m'\u001b[39m\u001b[39m20151120\u001b[39m\u001b[39m'\u001b[39m, cmap\u001b[39m=\u001b[39m\u001b[39m'\u001b[39m\u001b[39mact_HomeyerRainbow\u001b[39m\u001b[39m'\u001b[39m, set_shading\u001b[39m=\u001b[39m\u001b[39m'\u001b[39m\u001b[39mnearest\u001b[39m\u001b[39m'\u001b[39m,\n\u001b[0;32m     25\u001b[0m    add_nan\u001b[39m=\u001b[39m\u001b[39mTrue\u001b[39;00m, subplot_index\u001b[39m=\u001b[39m(\u001b[39m0\u001b[39m,))\n\u001b[0;32m     27\u001b[0m display\u001b[39m.\u001b[39mplot(\u001b[39m'\u001b[39m\u001b[39mvap\u001b[39m\u001b[39m'\u001b[39m, dsname\u001b[39m=\u001b[39m\u001b[39m'\u001b[39m\u001b[39m20151119\u001b[39m\u001b[39m'\u001b[39m, marker\u001b[39m=\u001b[39m\u001b[39m'\u001b[39m\u001b[39m+\u001b[39m\u001b[39m'\u001b[39m, markeredgewidth\u001b[39m=\u001b[39m\u001b[39m1\u001b[39m,\n\u001b[0;32m     28\u001b[0m    linewidth\u001b[39m=\u001b[39m\u001b[39m0\u001b[39m, subplot_index\u001b[39m=\u001b[39m(\u001b[39m1\u001b[39m,), label\u001b[39m=\u001b[39m\u001b[39m'\u001b[39m\u001b[39mcbh\u001b[39m\u001b[39m'\u001b[39m)\n",
      "File \u001b[1;32mc:\\ProgramData\\Miniconda3\\envs\\act_env\\Lib\\site-packages\\act\\plotting\\timeseriesdisplay.py:407\u001b[0m, in \u001b[0;36mTimeSeriesDisplay.plot\u001b[1;34m(self, field, dsname, subplot_index, cmap, set_title, add_nan, day_night_background, invert_y_axis, abs_limits, time_rng, y_rng, use_var_for_y, set_shading, assessment_overplot, overplot_marker, overplot_behind, overplot_markersize, assessment_overplot_category, assessment_overplot_category_color, force_line_plot, labels, cbar_label, cbar_h_adjust, secondary_y, y_axis_flag_meanings, colorbar_labels, **kwargs)\u001b[0m\n\u001b[0;32m    404\u001b[0m     kwargs[\u001b[39m'\u001b[39m\u001b[39mlinestyle\u001b[39m\u001b[39m'\u001b[39m] \u001b[39m=\u001b[39m \u001b[39m'\u001b[39m\u001b[39m'\u001b[39m\n\u001b[0;32m    406\u001b[0m \u001b[39m# Get data and dimensions\u001b[39;00m\n\u001b[1;32m--> 407\u001b[0m data \u001b[39m=\u001b[39m \u001b[39mself\u001b[39;49m\u001b[39m.\u001b[39;49m_obj[dsname][field]\n\u001b[0;32m    408\u001b[0m dim \u001b[39m=\u001b[39m \u001b[39mlist\u001b[39m(\u001b[39mself\u001b[39m\u001b[39m.\u001b[39m_obj[dsname][field]\u001b[39m.\u001b[39mdims)\n\u001b[0;32m    409\u001b[0m xdata \u001b[39m=\u001b[39m \u001b[39mself\u001b[39m\u001b[39m.\u001b[39m_obj[dsname][dim[\u001b[39m0\u001b[39m]]\n",
      "File \u001b[1;32mc:\\ProgramData\\Miniconda3\\envs\\act_env\\Lib\\site-packages\\xarray\\core\\dataset.py:1438\u001b[0m, in \u001b[0;36mDataset.__getitem__\u001b[1;34m(self, key)\u001b[0m\n\u001b[0;32m   1436\u001b[0m     \u001b[39mreturn\u001b[39;00m \u001b[39mself\u001b[39m\u001b[39m.\u001b[39misel(\u001b[39m*\u001b[39m\u001b[39m*\u001b[39mkey)\n\u001b[0;32m   1437\u001b[0m \u001b[39mif\u001b[39;00m utils\u001b[39m.\u001b[39mhashable(key):\n\u001b[1;32m-> 1438\u001b[0m     \u001b[39mreturn\u001b[39;00m \u001b[39mself\u001b[39;49m\u001b[39m.\u001b[39;49m_construct_dataarray(key)\n\u001b[0;32m   1439\u001b[0m \u001b[39mif\u001b[39;00m utils\u001b[39m.\u001b[39miterable_of_hashable(key):\n\u001b[0;32m   1440\u001b[0m     \u001b[39mreturn\u001b[39;00m \u001b[39mself\u001b[39m\u001b[39m.\u001b[39m_copy_listed(key)\n",
      "File \u001b[1;32mc:\\ProgramData\\Miniconda3\\envs\\act_env\\Lib\\site-packages\\xarray\\core\\dataset.py:1349\u001b[0m, in \u001b[0;36mDataset._construct_dataarray\u001b[1;34m(self, name)\u001b[0m\n\u001b[0;32m   1347\u001b[0m     variable \u001b[39m=\u001b[39m \u001b[39mself\u001b[39m\u001b[39m.\u001b[39m_variables[name]\n\u001b[0;32m   1348\u001b[0m \u001b[39mexcept\u001b[39;00m \u001b[39mKeyError\u001b[39;00m:\n\u001b[1;32m-> 1349\u001b[0m     _, name, variable \u001b[39m=\u001b[39m _get_virtual_variable(\u001b[39mself\u001b[39;49m\u001b[39m.\u001b[39;49m_variables, name, \u001b[39mself\u001b[39;49m\u001b[39m.\u001b[39;49mdims)\n\u001b[0;32m   1351\u001b[0m needed_dims \u001b[39m=\u001b[39m \u001b[39mset\u001b[39m(variable\u001b[39m.\u001b[39mdims)\n\u001b[0;32m   1353\u001b[0m coords: \u001b[39mdict\u001b[39m[Hashable, Variable] \u001b[39m=\u001b[39m {}\n",
      "File \u001b[1;32mc:\\ProgramData\\Miniconda3\\envs\\act_env\\Lib\\site-packages\\xarray\\core\\dataset.py:185\u001b[0m, in \u001b[0;36m_get_virtual_variable\u001b[1;34m(variables, key, dim_sizes)\u001b[0m\n\u001b[0;32m    183\u001b[0m split_key \u001b[39m=\u001b[39m key\u001b[39m.\u001b[39msplit(\u001b[39m\"\u001b[39m\u001b[39m.\u001b[39m\u001b[39m\"\u001b[39m, \u001b[39m1\u001b[39m)\n\u001b[0;32m    184\u001b[0m \u001b[39mif\u001b[39;00m \u001b[39mlen\u001b[39m(split_key) \u001b[39m!=\u001b[39m \u001b[39m2\u001b[39m:\n\u001b[1;32m--> 185\u001b[0m     \u001b[39mraise\u001b[39;00m \u001b[39mKeyError\u001b[39;00m(key)\n\u001b[0;32m    187\u001b[0m ref_name, var_name \u001b[39m=\u001b[39m split_key\n\u001b[0;32m    188\u001b[0m ref_var \u001b[39m=\u001b[39m variables[ref_name]\n",
      "\u001b[1;31mKeyError\u001b[0m: 'vap'"
     ]
    },
    {
     "data": {
      "image/png": "[encoded data removed]",
      "text/plain": [
       "<Figure size 1200x1000 with 2 Axes>"
      ]
     },
     "metadata": {},
     "output_type": "display_data"
    }
   ],
   "source": [
    "#Access directores files downloaded\n",
    "mwr_mp3000a_ds = act.io.armfiles.read_netcdf(f'{datastream}/{datastream}.*.cdf')\n",
    "ceil_ds = act.io.armfiles.read_netcdf(f'{datastream}/{datastream}.*.cdf')\n",
    "\n",
    "\n",
    "# Create a TimeSeriesDisplay object\n",
    "mwr_mp3000a_ds = mwr_mp3000a_ds.resample(time='1min').nearest()\n",
    "ceil_ds = ceil_ds.resample(time='1min').nearest()\n",
    "\n",
    "display = act.plotting.TimeSeriesDisplay(\n",
    "   {'20151119': mwr_mp3000a_ds, '20151120': ceil_ds},\n",
    "   subplot_shape=(2,), figsize=(12,10)\n",
    ")\n",
    "\n",
    "# Plot data\n",
    "display.plot('vap', dsname='20151119', marker='+', markeredgewidth=1,\n",
    "   linewidth=0, subplot_index=(0,), label='cbh')\n",
    "display.plot('vap', dsname='20151120', cmap='act_HomeyerRainbow', set_shading='nearest',\n",
    "   add_nan=True, subplot_index=(0,))\n",
    "\n",
    "display.plot('vap', dsname='20151119', marker='+', markeredgewidth=1,\n",
    "   linewidth=0, subplot_index=(1,), label='cbh')\n",
    "display.plot('liq', dsname='20151120', cmap='act_HomeyerRainbow', set_shading='nearest',\n",
    "   add_nan=True, subplot_index=(1,))\n",
    "plt.savefig(f'{datastream}/output/figures/{hoje}_{hora}_{datastream}.png')"
   ]
  },
  {
   "attachments": {},
   "cell_type": "markdown",
   "metadata": {},
   "source": [
    "REFERENCES:\n",
    "\n",
    "@misc{zhang, title={MWR Retrievals (MWRRET1LILJCLOU)}, DOI={10.5439/1027369}, journal={Atmospheric Radiation Measurement (ARM) user facility}, author={Zhang, Damao} }"
   ]
  },
  {
   "cell_type": "markdown",
   "metadata": {},
   "source": []
  },
  {
   "cell_type": "markdown",
   "metadata": {},
   "source": []
  },
  {
   "cell_type": "code",
   "execution_count": null,
   "metadata": {},
   "outputs": [],
   "source": [
    "\n",
    "# Load the NetCDF file into a data object\n",
    "#data = MFDataset('/home/maou/Área de Trabalho/Victor/Estágio/Dados de Satelite/*.09.2015 Antartica.nc', mode='r') **#Aqui eu gostaria de colocar outros 29 dados e não sei como.**\n",
    "\n",
    "#nc_file = Dataset('maomwrlosM1.b1.20151117.000031.cdf','r',format='NETCDF4_CLASSIC')\n",
    "nc_file = MFDataset('L:/GitHub/CAP-Dissertation-Complementary-studies/Notebooks/maomwrlosM1.b1/maomwrlosM1.b1.*.cdf','r')\n",
    "#print(nc_file.variables)\n",
    "# Load the time and temperature as data objects\n",
    "\n",
    "temp_obj = nc_file.variables['sky31']\n",
    "time_obj = nc_file.variables['time']\n",
    "# Load the time and temperature data into the workspace\n",
    "\n",
    "temperature = temp_obj[:]\n",
    "time = time_obj[:]\n",
    "# Convert the time from seconds since midnight GMT to hours since midnight GMT\n",
    "time_hour = time/3600\n",
    "# Now plot the data\n",
    "# Setup the plot\n",
    "\n",
    "display = plot(figsize=(15, 10))\n",
    "\n",
    "# Plot temperature data in top plot\n",
    "\n",
    "\n",
    "plot(time_hour, temperature)\n",
    "# Limit the axes ranges\n",
    "xlim(0,24)\n",
    "# You can also force the ticks to be at 6-hour intervals (for example)\n",
    "xticks([0,6,12,18,24])\n",
    "# Add axes labels and a title\n",
    "xlabel(nc_file.variables['time'].long_name )\n",
    "ylabel(nc_file.variables['tbsky23'].long_name)\n",
    "title(nc_file.variables['time'].units)\n",
    "# Output as a PNG format file\n",
    "savefig('testplot.png', format='png')\n",
    "# When plotting from within a script you have to instruct the script to display the output\n",
    "show()\n",
    "\n",
    "#print(nc_file.variables['tbsky23'].long_name)"
   ]
  },
  {
   "cell_type": "markdown",
   "metadata": {},
   "source": []
  },
  {
   "cell_type": "markdown",
   "metadata": {},
   "source": []
  },
  {
   "cell_type": "code",
   "execution_count": 1,
   "metadata": {},
   "outputs": [
    {
     "ename": "NameError",
     "evalue": "name 'act' is not defined",
     "output_type": "error",
     "traceback": [
      "\u001b[1;31m---------------------------------------------------------------------------\u001b[0m",
      "\u001b[1;31mNameError\u001b[0m                                 Traceback (most recent call last)",
      "Cell \u001b[1;32mIn[1], line 2\u001b[0m\n\u001b[0;32m      1\u001b[0m \u001b[39m# Read in AERIoe and ceilometer data\u001b[39;00m\n\u001b[1;32m----> 2\u001b[0m aerioe_ds \u001b[39m=\u001b[39m act\u001b[39m.\u001b[39mio\u001b[39m.\u001b[39marmfiles\u001b[39m.\u001b[39mread_netcdf(\u001b[39m'\u001b[39m\u001b[39msgpaerioe1turnC1.c1/sgpaerioe1turnC1.c1.20220211.000354.nc\u001b[39m\u001b[39m'\u001b[39m)\n\u001b[0;32m      3\u001b[0m ceil_ds \u001b[39m=\u001b[39m act\u001b[39m.\u001b[39mio\u001b[39m.\u001b[39marmfiles\u001b[39m.\u001b[39mread_netcdf(\u001b[39m'\u001b[39m\u001b[39msgpceilC1.b1/sgpceilC1.b1.20220211.000005.nc\u001b[39m\u001b[39m'\u001b[39m)\n\u001b[0;32m      5\u001b[0m \u001b[39m# There isn't information content from the AERI above 3 km\u001b[39;00m\n\u001b[0;32m      6\u001b[0m \u001b[39m# Remove data with a height above 3 km\u001b[39;00m\n",
      "\u001b[1;31mNameError\u001b[0m: name 'act' is not defined"
     ]
    }
   ],
   "source": [
    "\n",
    "# Read in AERIoe and ceilometer data\n",
    "aerioe_ds = act.io.armfiles.read_netcdf('sgpaerioe1turnC1.c1/sgpaerioe1turnC1.c1.20220211.000354.nc')\n",
    "ceil_ds = act.io.armfiles.read_netcdf('sgpceilC1.b1/sgpceilC1.b1.20220211.000005.nc')\n",
    "\n",
    "# There isn't information content from the AERI above 3 km\n",
    "# Remove data with a height above 3 km\n",
    "aerioe_ds = aerioe_ds.sel(height=aerioe_ds.coords['height'] <= 3)\n",
    "\n",
    "# Convert Ceilometer cloud base height to km\n",
    "ceil_ds['first_cbh'] = ceil_ds['first_cbh']/1000\n",
    "\n",
    "# Remove first_cbh if it is higher than 3 km\n",
    "ceil_ds['first_cbh'] = ceil_ds['first_cbh'][~(ceil_ds['first_cbh'] > 3)]\n",
    "\n",
    "# Create a TimeSeriesDisplay object\n",
    "display = act.plotting.TimeSeriesDisplay(\n",
    "   {'AERIoe': aerioe_ds, 'Ceilometer': ceil_ds},\n",
    "   subplot_shape=(2,), figsize=(15,10)\n",
    ")\n",
    "\n",
    "# Plot data\n",
    "display.plot('first_cbh', dsname='Ceilometer', marker='+', color='black', markeredgewidth=3,\n",
    "   linewidth=0, subplot_index=(0,), label='cbh')\n",
    "display.plot('temperature', dsname='AERIoe', cmap='viridis', set_shading='nearest',\n",
    "   add_nan=True, subplot_index=(0,))\n",
    "\n",
    "display.plot('first_cbh', dsname='Ceilometer', marker='+', color='black', markeredgewidth=3,\n",
    "   linewidth=0, subplot_index=(1,), label='cbh')\n",
    "display.plot('waterVapor', dsname='AERIoe', cmap='act_HomeyerRainbow', set_shading='nearest',\n",
    "   add_nan=True, subplot_index=(1,))\n",
    "\n",
    "plt.savefig('sgpaerioe1turnC1.c1.20220211.png')"
   ]
  }
 ],
 "metadata": {
  "kernelspec": {
   "display_name": "Python 3",
   "language": "python",
   "name": "python3"
  },
  "language_info": {
   "codemirror_mode": {
    "name": "ipython",
    "version": 3
   },
   "file_extension": ".py",
   "mimetype": "text/x-python",
   "name": "python",
   "nbconvert_exporter": "python",
   "pygments_lexer": "ipython3",
   "version": "3.11.0"
  },
  "orig_nbformat": 4,
  "vscode": {
   "interpreter": {
    "hash": "07ce037792393486de82b78557509c70dc90bfb6f086cff9f2eca46d4f24b232"
   }
  }
 },
 "nbformat": 4,
 "nbformat_minor": 2
}
