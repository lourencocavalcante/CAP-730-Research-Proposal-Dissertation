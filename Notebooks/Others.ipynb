{
 "cells": [
  {
   "attachments": {},
   "cell_type": "markdown",
   "metadata": {},
   "source": [
    "Exemple 01"
   ]
  },
  {
   "cell_type": "code",
   "execution_count": null,
   "metadata": {},
   "outputs": [],
   "source": [
    "import os\n",
    "\n",
    "import act\n",
    "import matplotlib.pyplot as plt\n",
    "\n",
    "# First import the NetCDF4 package\n",
    "from netCDF4 import Dataset\n",
    "from netCDF4 import MFDataset\n",
    "\n",
    "# Next import plotting functions\n",
    "from pylab import *\n",
    "\n",
    "from datetime import date, datetime\n",
    "\n",
    "\n",
    "# Load the NetCDF file into a data object\n",
    "#data = MFDataset('/home/maou/Área de Trabalho/Victor/Estágio/Dados de Satelite/*.09.2015 Antartica.nc', mode='r') **#Aqui eu gostaria de colocar outros 29 dados e não sei como.**\n",
    "\n",
    "#nc_file = Dataset('maomwrlosM1.b1.20151117.000031.cdf','r',format='NETCDF4_CLASSIC')\n",
    "nc_file = MFDataset('L:/GitHub/CAP-Dissertation-Complementary-studies/Notebooks/maomwrlosM1.b1/maomwrlosM1.b1.*.cdf','r')\n",
    "#print(nc_file.variables)\n",
    "# Load the time and temperature as data objects\n",
    "\n",
    "temp_obj = nc_file.variables['sky31']\n",
    "time_obj = nc_file.variables['time']\n",
    "# Load the time and temperature data into the workspace\n",
    "\n",
    "temperature = temp_obj[:]\n",
    "time = time_obj[:]\n",
    "# Convert the time from seconds since midnight GMT to hours since midnight GMT\n",
    "time_hour = time/3600\n",
    "# Now plot the data\n",
    "# Setup the plot\n",
    "\n",
    "display = plot(figsize=(15, 10))\n",
    "\n",
    "# Plot temperature data in top plot\n",
    "\n",
    "\n",
    "plot(time_hour, temperature)\n",
    "# Limit the axes ranges\n",
    "xlim(0,24)\n",
    "# You can also force the ticks to be at 6-hour intervals (for example)\n",
    "xticks([0,6,12,18,24])\n",
    "# Add axes labels and a title\n",
    "xlabel(nc_file.variables['time'].long_name )\n",
    "ylabel(nc_file.variables['tbsky23'].long_name)\n",
    "title(nc_file.variables['time'].units)\n",
    "# Output as a PNG format file\n",
    "savefig('testplot.png', format='png')\n",
    "# When plotting from within a script you have to instruct the script to display the output\n",
    "show()\n",
    "\n",
    "#print(nc_file.variables['tbsky23'].long_name)"
   ]
  },
  {
   "attachments": {},
   "cell_type": "markdown",
   "metadata": {},
   "source": [
    "Exemple 02"
   ]
  },
  {
   "cell_type": "code",
   "execution_count": null,
   "metadata": {},
   "outputs": [],
   "source": [
    "import os\n",
    "\n",
    "import act\n",
    "import matplotlib.pyplot as plt\n",
    "\n",
    "# First import the NetCDF4 package\n",
    "from netCDF4 import Dataset\n",
    "from netCDF4 import MFDataset\n",
    "\n",
    "# Next import plotting functions\n",
    "from pylab import *\n",
    "\n",
    "from datetime import date, datetime\n",
    "\n",
    "\n",
    "# Read in AERIoe and ceilometer data\n",
    "aerioe_ds = act.io.armfiles.read_netcdf('sgpaerioe1turnC1.c1/sgpaerioe1turnC1.c1.20220211.000354.nc')\n",
    "ceil_ds = act.io.armfiles.read_netcdf('sgpceilC1.b1/sgpceilC1.b1.20220211.000005.nc')\n",
    "\n",
    "# There isn't information content from the AERI above 3 km\n",
    "# Remove data with a height above 3 km\n",
    "aerioe_ds = aerioe_ds.sel(height=aerioe_ds.coords['height'] <= 3)\n",
    "\n",
    "# Convert Ceilometer cloud base height to km\n",
    "ceil_ds['first_cbh'] = ceil_ds['first_cbh']/1000\n",
    "\n",
    "# Remove first_cbh if it is higher than 3 km\n",
    "ceil_ds['first_cbh'] = ceil_ds['first_cbh'][~(ceil_ds['first_cbh'] > 3)]\n",
    "\n",
    "# Create a TimeSeriesDisplay object\n",
    "display = act.plotting.TimeSeriesDisplay(\n",
    "   {'AERIoe': aerioe_ds, 'Ceilometer': ceil_ds},\n",
    "   subplot_shape=(2,), figsize=(15,10)\n",
    ")\n",
    "\n",
    "# Plot data\n",
    "display.plot('first_cbh', dsname='Ceilometer', marker='+', color='black', markeredgewidth=3,\n",
    "   linewidth=0, subplot_index=(0,), label='cbh')\n",
    "display.plot('temperature', dsname='AERIoe', cmap='viridis', set_shading='nearest',\n",
    "   add_nan=True, subplot_index=(0,))\n",
    "\n",
    "display.plot('first_cbh', dsname='Ceilometer', marker='+', color='black', markeredgewidth=3,\n",
    "   linewidth=0, subplot_index=(1,), label='cbh')\n",
    "display.plot('waterVapor', dsname='AERIoe', cmap='act_HomeyerRainbow', set_shading='nearest',\n",
    "   add_nan=True, subplot_index=(1,))\n",
    "\n",
    "plt.savefig('sgpaerioe1turnC1.c1.20220211.png')"
   ]
  }
 ],
 "metadata": {
  "kernelspec": {
   "display_name": "Python 3",
   "language": "python",
   "name": "python3"
  },
  "language_info": {
   "name": "python",
   "version": "3.10.4"
  },
  "orig_nbformat": 4,
  "vscode": {
   "interpreter": {
    "hash": "8ff026de04d0a00441a2a564cc8062d67966dece77b050ef21568b60f531b31b"
   }
  }
 },
 "nbformat": 4,
 "nbformat_minor": 2
}
