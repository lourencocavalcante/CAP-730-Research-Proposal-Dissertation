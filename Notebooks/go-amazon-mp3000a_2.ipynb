{
 "cells": [
  {
   "cell_type": "code",
   "execution_count": null,
   "metadata": {},
   "outputs": [],
   "source": [
    "import os\n",
    "\n",
    "import act\n",
    "import matplotlib.pyplot as plt\n",
    "\n",
    "# First import the NetCDF4 package\n",
    "from netCDF4 import Dataset\n",
    "from netCDF4 import MFDataset\n",
    "\n",
    "# Next import plotting functions\n",
    "from pylab import *\n",
    "\n",
    "from datetime import date, datetime"
   ]
  },
  {
   "cell_type": "code",
   "execution_count": null,
   "metadata": {},
   "outputs": [],
   "source": [
    "# Place your username and token here\n",
    "my_arm_username = 'LourencoCavalcante' \n",
    "api_access_token = '311d84bc76093a97' #https://adc.arm.gov/armlive/register\n"
   ]
  },
  {
   "cell_type": "code",
   "execution_count": null,
   "metadata": {},
   "outputs": [],
   "source": [
    "#Site: Manacapuru, Amazonas, Brazil; Mobile Facility (GOAMAZON) (MAO)\n",
    "# GO - AMAZON (Start: 2014-01-08 for End: 2015-12-01)\n",
    "datastream = 'maomwrret1liljclouM1.c2'\n",
    "date_start = '2014-06-01' \n",
    "date_end = '2014-06-01'\n",
    "\n",
    "# Download MWR data on ARM\n",
    "act.discovery.download_data(my_arm_username, api_access_token, datastream, date_start, date_end)\n",
    "\n",
    "dir = f'./{datastream}/output/figures'    \n",
    "#os.makedirs(dir)\n",
    "os.mkdir(dir)"
   ]
  },
  {
   "cell_type": "code",
   "execution_count": null,
   "metadata": {},
   "outputs": [],
   "source": [
    "data = datetime.today()\n",
    "hoje = data.strftime('%d-%m-%Y')\n",
    "hora = data.strftime('%H-%M-%S')\n",
    "\n",
    "#Access directores files downloaded\n",
    "\n",
    "mwr_mp3000a_ds = act.io.armfiles.read_netcdf(f'{datastream}/{datastream}.20151001*.cdf')\n",
    "ceil_ds = act.io.armfiles.read_netcdf(f'{datastream}/{datastream}.20151001*.cdf')\n",
    "\n",
    "\n",
    "# Create a TimeSeriesDisplay object\n",
    "mwr_mp3000a_ds = mwr_mp3000a_ds.resample(time='1min').nearest()\n",
    "ceil_ds = ceil_ds.resample(time='1min').nearest()\n",
    "\n",
    "display = act.plotting.TimeSeriesDisplay(\n",
    "   {'mwr_mp3000a': mwr_mp3000a_ds, 'mwr_mp3000a_': ceil_ds},\n",
    "   subplot_shape=(2,), figsize=(12,10)\n",
    ")\n",
    "\n",
    "# Plot data\n",
    "display.plot('lat', dsname='mwr_mp3000a_', marker='+', markeredgewidth=1,\n",
    "   linewidth=0, subplot_index=(0,), label='cbh')\n",
    "display.plot('tbsky23', dsname='mwr_mp3000a', cmap='act_HomeyerRainbow', set_shading='nearest',\n",
    "   add_nan=True, subplot_index=(0,))\n",
    "\n",
    "display.plot('lat', dsname='mwr_mp3000a_', marker='+', markeredgewidth=1,\n",
    "   linewidth=0, subplot_index=(1,), label='cbh')\n",
    "display.plot('vap', dsname='mwr_mp3000a', cmap='act_HomeyerRainbow', set_shading='nearest',\n",
    "   add_nan=True, subplot_index=(1,))\n",
    "plt.savefig(f'{datastream}/output/figures/{datastream}_{hoje}_{hora}.png')"
   ]
  },
  {
   "attachments": {},
   "cell_type": "markdown",
   "metadata": {},
   "source": [
    "REFERENCES:\n",
    "\n",
    "@misc{zhang, title={MWR Retrievals (MWRRET1LILJCLOU)}, DOI={10.5439/1027369}, journal={Atmospheric Radiation Measurement (ARM) user facility}, author={Zhang, Damao} }"
   ]
  }
 ],
 "metadata": {
  "kernelspec": {
   "display_name": "Python 3",
   "language": "python",
   "name": "python3"
  },
  "language_info": {
   "name": "python",
   "version": "3.10.4"
  },
  "orig_nbformat": 4,
  "vscode": {
   "interpreter": {
    "hash": "8ff026de04d0a00441a2a564cc8062d67966dece77b050ef21568b60f531b31b"
   }
  }
 },
 "nbformat": 4,
 "nbformat_minor": 2
}
