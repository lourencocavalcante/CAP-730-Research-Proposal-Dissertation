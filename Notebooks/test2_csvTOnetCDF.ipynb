{
 "cells": [
  {
   "attachments": {},
   "cell_type": "markdown",
   "metadata": {},
   "source": [
    "OBJETIVO: Ler oum arquivo CSV, selecionar as variáveis de interesse, converter as unidades e preencher as variáveis do arquivo netCDF de acordo com as instruções do manual da ARM. É importante lembrar que os atributos globais e das variáveis podem ser ajustados de acordo com as características específicas dos dados."
   ]
  },
  {
   "cell_type": "code",
   "execution_count": 1,
   "metadata": {},
   "outputs": [],
   "source": [
    "import numpy as np\n",
    "import pandas as pd\n",
    "\n",
    "import os\n",
    "\n",
    "import act\n",
    "import matplotlib.pyplot as plt\n",
    "\n",
    "# First import the NetCDF4 package\n",
    "\n",
    "# Next import plotting functions\n",
    "from pylab import *\n",
    "\n",
    "from datetime import date, datetime\n",
    "\n",
    "import xarray as xr\n",
    "import matplotlib.pyplot as plt\n",
    "\n",
    "\n",
    "\n",
    "\n",
    "import copy\n",
    "import glob\n",
    "import json\n",
    "import re\n",
    "import urllib\n",
    "import warnings\n",
    "from pathlib import Path, PosixPath\n",
    "\n",
    "import netCDF4 as nc\n",
    "from netCDF4 import Dataset\n",
    "from netCDF4 import MFDataset\n",
    "from os import PathLike\n",
    "import tarfile\n",
    "import tempfile\n",
    "\n",
    "import numpy as np\n",
    "import xarray as xr\n",
    "\n",
    "import act.utils as utils\n",
    "from act.config import DEFAULT_DATASTREAM_NAME\n",
    "from act.utils.io_utils import unpack_tar, unpack_gzip, cleanup_files, is_gunzip_file\n",
    "\n",
    "\n",
    "\n",
    "%matplotlib inline"
   ]
  },
  {
   "cell_type": "code",
   "execution_count": null,
   "metadata": {},
   "outputs": [],
   "source": [
    "#Abrindo os dados e criando o Dataframe\n",
    "df_mp3000A_1 = pd.read_table('./input/level1_output_bt.txt',header=None,delim_whitespace=True)"
   ]
  },
  {
   "cell_type": "code",
   "execution_count": 92,
   "metadata": {},
   "outputs": [],
   "source": [
    "df_mp3000A_1.columns = ['Mes', 'dia', 'Ano', 'H', 'M', 'S', 'Ch_22_234', 'Ch_22_500', 'Ch_23_034', 'Ch_23_834', 'Ch_25_000', 'Ch_26_234', 'Ch_28_000', 'Ch_30_000', 'Ch_51_248', 'Ch_51_760', 'Ch_52_280', 'Ch_52_804', 'Ch_53_336', 'Ch_53_848', 'Ch_54_400', 'Ch_54_940', 'Ch_55_500', 'Ch_56_020', 'Ch_56_660', 'Ch_57_288', 'Ch_57_964', 'Ch_58_800', 'DataQuality']\n"
   ]
  },
  {
   "cell_type": "code",
   "execution_count": null,
   "metadata": {},
   "outputs": [],
   "source": [
    "#Faz uma busca na coluna Ano e altera o ano de YY para YYYY\n",
    "df_mp3000A_1['Ano'][df_mp3000A_1['Ano'] < 2000] = df_mp3000A_1['Ano'] + 2000"
   ]
  },
  {
   "cell_type": "code",
   "execution_count": 94,
   "metadata": {},
   "outputs": [],
   "source": [
    "\n",
    "#Modificanto o tipo de dado para (int)\n",
    "df_mp3000A_1[['Mes', 'dia', 'Ano', 'H', 'M', 'S']] = df_mp3000A_1[['Mes', 'dia', 'Ano', 'H', 'M', 'S']].astype(int)"
   ]
  },
  {
   "cell_type": "code",
   "execution_count": 95,
   "metadata": {},
   "outputs": [],
   "source": [
    "import calendar\n",
    "import datetime\n",
    "\n",
    "#Adiciona a coluna Datetime ao Dataframe com os dados do RD80 (Joss)\n",
    "df_mp3000A_1['Datetime'] = df_mp3000A_1[['Ano', 'Mes', 'dia', 'H', 'M', 'S']].apply(lambda row:\n",
    "                    datetime.datetime(year=row['Ano'], month=row['Mes'],day=row['dia'], hour=row['H'], minute=row[\"M\"], second=row[\"S\"]),axis=1)"
   ]
  },
  {
   "cell_type": "code",
   "execution_count": 96,
   "metadata": {},
   "outputs": [
    {
     "data": {
      "text/plain": [
       "Index(['Mes', 'dia', 'Ano', 'H', 'M', 'S', 'Ch_22_234', 'Ch_22_500',\n",
       "       'Ch_23_034', 'Ch_23_834', 'Ch_25_000', 'Ch_26_234', 'Ch_28_000',\n",
       "       'Ch_30_000', 'Ch_51_248', 'Ch_51_760', 'Ch_52_280', 'Ch_52_804',\n",
       "       'Ch_53_336', 'Ch_53_848', 'Ch_54_400', 'Ch_54_940', 'Ch_55_500',\n",
       "       'Ch_56_020', 'Ch_56_660', 'Ch_57_288', 'Ch_57_964', 'Ch_58_800',\n",
       "       'DataQuality', 'Datetime'],\n",
       "      dtype='object')"
      ]
     },
     "execution_count": 96,
     "metadata": {},
     "output_type": "execute_result"
    }
   ],
   "source": [
    "df_mp3000A_1.columns"
   ]
  },
  {
   "cell_type": "code",
   "execution_count": 97,
   "metadata": {},
   "outputs": [],
   "source": [
    "df_mp3000A_1 = df_mp3000A_1.reindex(columns=['Datetime','Mes', 'dia', 'Ano', 'H', 'M', 'S', 'Ch_22_234', 'Ch_22_500',\n",
    "       'Ch_23_034', 'Ch_23_834', 'Ch_25_000', 'Ch_26_234', 'Ch_28_000',\n",
    "       'Ch_30_000', 'Ch_51_248', 'Ch_51_760', 'Ch_52_280', 'Ch_52_804',\n",
    "       'Ch_53_336', 'Ch_53_848', 'Ch_54_400', 'Ch_54_940', 'Ch_55_500',\n",
    "       'Ch_56_020', 'Ch_56_660', 'Ch_57_288', 'Ch_57_964', 'Ch_58_800',\n",
    "       'DataQuality'])"
   ]
  },
  {
   "cell_type": "code",
   "execution_count": 98,
   "metadata": {},
   "outputs": [
    {
     "data": {
      "text/plain": [
       "Index(['Datetime', 'Mes', 'dia', 'Ano', 'H', 'M', 'S', 'Ch_22_234',\n",
       "       'Ch_22_500', 'Ch_23_034', 'Ch_23_834', 'Ch_25_000', 'Ch_26_234',\n",
       "       'Ch_28_000', 'Ch_30_000', 'Ch_51_248', 'Ch_51_760', 'Ch_52_280',\n",
       "       'Ch_52_804', 'Ch_53_336', 'Ch_53_848', 'Ch_54_400', 'Ch_54_940',\n",
       "       'Ch_55_500', 'Ch_56_020', 'Ch_56_660', 'Ch_57_288', 'Ch_57_964',\n",
       "       'Ch_58_800', 'DataQuality'],\n",
       "      dtype='object')"
      ]
     },
     "execution_count": 98,
     "metadata": {},
     "output_type": "execute_result"
    }
   ],
   "source": [
    "df_mp3000A_1.columns"
   ]
  },
  {
   "cell_type": "code",
   "execution_count": 99,
   "metadata": {},
   "outputs": [],
   "source": [
    "#Salvando/Exportando os Dataframes para o formato CSV\n",
    "#df_mp3000A_1.to_csv('./input/2021-07-27_19-43-20_lv1.csv')"
   ]
  },
  {
   "cell_type": "code",
   "execution_count": 100,
   "metadata": {},
   "outputs": [],
   "source": [
    "\n",
    "# Leitura do arquivo CSV\n",
    "#data = pd.read_csv('http://ftp.lfa.if.usp.br/ftp/public/ATTO/Campina/MP3000/2021-07-27_19-43-20_lv1.csv', delimiter=',', skiprows=[0])\n",
    "data = df_mp3000A_1\n"
   ]
  },
  {
   "cell_type": "code",
   "execution_count": null,
   "metadata": {},
   "outputs": [],
   "source": [
    "data.columns"
   ]
  },
  {
   "cell_type": "code",
   "execution_count": 102,
   "metadata": {},
   "outputs": [],
   "source": [
    "\n",
    "# Seleção das variáveis de interesse\n",
    "time = pd.to_datetime(data['Datetime'], format='%Y%m%d %H%M%S')\n",
    "#time = data['Record'].values\n",
    "pressure = data['Ch_22_234'].values\n",
    "temperature = data['Ch_22_500'].values\n",
    "relative_humidity = data['Ch_30_000'].values\n",
    "wind_speed = data['Ch_58_800'].values\n",
    "wind_direction = data['DataQuality'].values\n"
   ]
  },
  {
   "cell_type": "code",
   "execution_count": null,
   "metadata": {},
   "outputs": [],
   "source": [
    "time"
   ]
  },
  {
   "cell_type": "code",
   "execution_count": 104,
   "metadata": {},
   "outputs": [],
   "source": [
    "\n",
    "# Conversão de unidades\n",
    "relative_humidity = relative_humidity * 3.6 # de m/s para km/h\n"
   ]
  },
  {
   "cell_type": "code",
   "execution_count": null,
   "metadata": {},
   "outputs": [],
   "source": [
    "filename = 'ATTO_MWR_data_' + datetime.now().strftime('%Y%m%d_%H%M%S') + '.cdf'\n",
    "# Criação do arquivo netCDF\n",
    "with nc.Dataset(filename, 'w', format='NETCDF4_CLASSIC') as rootgrp:\n",
    "\n",
    "\n",
    "    # Criação das dimensões\n",
    "    time_dim = rootgrp.createDimension('time', None)\n",
    "\n",
    "    # Criação das variáveis\n",
    "    time_var = rootgrp.createVariable('time', 'f8', ('time',))\n",
    "    pressure_var = rootgrp.createVariable('air_pressure', 'f4', ('time',), fill_value=-999.0)\n",
    "    temperature_var = rootgrp.createVariable('air_temperature', 'f4', ('time',), fill_value=-999.0)\n",
    "    relative_humidity_var = rootgrp.createVariable('relative_humidity', 'f4', ('time',), fill_value=-999.0)\n",
    "    wind_speed_var = rootgrp.createVariable('wind_speed', 'f4', ('time',), fill_value=-999.0)\n",
    "    wind_direction_var = rootgrp.createVariable('wind_direction', 'f4', ('time',), fill_value=-999.0)\n",
    "\n",
    "    # Definição dos atributos globais\n",
    "    rootgrp.Conventions = 'CF-1.6, ACDD-1.3'\n",
    "    rootgrp.title = 'Dados da estação MP3000 da ATTO em Campina'\n",
    "    rootgrp.summary = 'Dados horários de pressão atmosférica, temperatura do ar, umidade relativa, velocidade e direção do vento medidos pela estação MP3000 da ATTO em Campina.'\n",
    "    rootgrp.institution = 'National Institute for Space Research (INPE), Universidade de São Paulo, Instituto de Física'\n",
    "    rootgrp.source = 'Estação MP3000 da ATTO -Campina'\n",
    "    rootgrp.references = 'https://www.arm.gov/capabilities/instruments/mwr'\n",
    "    rootgrp.comment = 'Data collected during the ATTO project'\n",
    "\n",
    "    # Definição dos atributos das variáveis\n",
    "    time_var.units = 'seconds since 1970-01-01 00:00:00'\n",
    "    time_var.standard_name = 'time'\n",
    "    pressure_var.units = 'hPa'\n",
    "    pressure_var.standard_name = 'air_pressure'\n",
    "    temperature_var.units = 'degree_Celsius'\n",
    "    temperature_var.standard_name = 'air_temperature'\n",
    "    relative_humidity_var.units = 'percent'\n",
    "    relative_humidity_var.standard_name = 'relative_humidity'\n",
    "    wind_speed_var.units = 'kilometers_per_hour'\n",
    "    wind_speed_var.standard_name = 'wind_speed'\n",
    "    wind_direction_var.units = 'degree'\n",
    "    wind_direction_var.standard_name = 'wind_direction'\n",
    "\n",
    "    # Preenchimento das variáveis com os dados\n",
    "    #time_var[:] = nc.date2num(time, units=time_var.units)\n",
    "    time_var[:] = time\n",
    "    pressure_var[:] = pressure\n",
    "    temperature_var[:] = temperature\n",
    "    relative_humidity_var[:] = relative_humidity\n",
    "    wind_speed_var[:] = wind_speed\n",
    "    wind_direction_var[:] = wind_direction\n",
    "\n",
    "    # Definição dos atributos específicos das variáveis\n",
    "    time_var.long_name = 'Time of measurement'\n",
    "    pressure_var.long_name = 'Atmospheric pressure'\n",
    "    pressure_var.valid_min = np.float32(850.0)\n",
    "    pressure_var.valid_max = np.float32(1100.0)\n",
    "    pressure_var.comment = 'The atmospheric pressure is the pressure exerted by the weight of the atmosphere on the Earth surface.'\n",
    "    temperature_var.long_name = 'Air temperature'\n",
    "    temperature_var.valid_min = np.float32(-80.0)\n",
    "    temperature_var.valid_max = np.float32(60.0)\n",
    "    temperature_var.comment = 'The air temperature is the temperature of the air outside the instrument housing.'\n",
    "    relative_humidity_var.long_name = 'Relative humidity'\n",
    "    relative_humidity_var.valid_min = np.float32(0.0)\n",
    "    relative_humidity_var.valid_max = np.float32(100.0)\n",
    "    relative_humidity_var.comment = 'The relative humidity is the amount of water vapor present in the air relative to the amount that would be present at saturation at the same temperature.'\n",
    "    wind_speed_var.long_name = 'Wind speed'\n",
    "    wind_speed_var.valid_min = np.float32(0.0)\n",
    "    wind_speed_var.valid_max = np.float32(100.0)\n",
    "    wind_speed_var.comment = 'The wind speed is the speed of the air relative to the instrument housing.'\n",
    "    wind_direction_var.long_name = 'Wind direction'\n",
    "    wind_direction_var.valid_min = np.float32(0.0)\n",
    "    wind_direction_var.valid_max = np.float32(360.0)\n",
    "    wind_direction_var.comment = 'The wind direction is the direction from which the wind is blowing.'\n",
    "\n",
    "print('Arquivo netCDF criado com sucesso.')"
   ]
  },
  {
   "cell_type": "code",
   "execution_count": null,
   "metadata": {},
   "outputs": [],
   "source": [
    "rootgrp.close()"
   ]
  },
  {
   "cell_type": "code",
   "execution_count": null,
   "metadata": {},
   "outputs": [],
   "source": [
    "#Access directores files downloaded\n",
    "mwr_mp3000a_ds = act.io.armfiles.read_netcdf('L:/GitHub/CAP-Dissertation-Complementary-studies/Notebooks/exemplo_arm.nc')"
   ]
  },
  {
   "cell_type": "code",
   "execution_count": null,
   "metadata": {},
   "outputs": [],
   "source": [
    "ds = xr.open_dataset('exemplo_arm.cdf', decode_times=False)"
   ]
  },
  {
   "cell_type": "code",
   "execution_count": null,
   "metadata": {},
   "outputs": [
    {
     "data": {
      "text/plain": [
       "Frozen({'time': <xarray.IndexVariable 'time' (time: 639694)>\n",
       "array([1.627410e+18, 1.627410e+18, 1.627410e+18, ..., 1.654075e+18,\n",
       "       1.654075e+18, 1.654075e+18])\n",
       "Attributes:\n",
       "    units:          seconds since 1970-01-01 00:00:00\n",
       "    standard_name:  time\n",
       "    long_name:      Time of measurement, 'air_pressure': <xarray.Variable (time: 639694)>\n",
       "[639694 values with dtype=float32]\n",
       "Attributes:\n",
       "    units:          hPa\n",
       "    standard_name:  air_pressure\n",
       "    long_name:      Atmospheric pressure\n",
       "    valid_min:      850.0\n",
       "    valid_max:      1100.0\n",
       "    comment:        The atmospheric pressure is the pressure exerted by the w..., 'air_temperature': <xarray.Variable (time: 639694)>\n",
       "[639694 values with dtype=float32]\n",
       "Attributes:\n",
       "    units:          degree_Celsius\n",
       "    standard_name:  air_temperature\n",
       "    long_name:      Air temperature\n",
       "    valid_min:      -80.0\n",
       "    valid_max:      60.0\n",
       "    comment:        The air temperature is the temperature of the air outside..., 'relative_humidity': <xarray.Variable (time: 639694)>\n",
       "[639694 values with dtype=float32]\n",
       "Attributes:\n",
       "    units:          percent\n",
       "    standard_name:  relative_humidity\n",
       "    long_name:      Relative humidity\n",
       "    valid_min:      0.0\n",
       "    valid_max:      100.0\n",
       "    comment:        The relative humidity is the amount of water vapor presen..., 'wind_speed': <xarray.Variable (time: 639694)>\n",
       "[639694 values with dtype=float32]\n",
       "Attributes:\n",
       "    units:          kilometers_per_hour\n",
       "    standard_name:  wind_speed\n",
       "    long_name:      Wind speed\n",
       "    valid_min:      0.0\n",
       "    valid_max:      100.0\n",
       "    comment:        The wind speed is the speed of the air relative to the in..., 'wind_direction': <xarray.Variable (time: 639694)>\n",
       "[639694 values with dtype=float32]\n",
       "Attributes:\n",
       "    units:          degree\n",
       "    standard_name:  wind_direction\n",
       "    long_name:      Wind direction\n",
       "    valid_min:      0.0\n",
       "    valid_max:      360.0\n",
       "    comment:        The wind direction is the direction from which the wind i...})"
      ]
     },
     "execution_count": 84,
     "metadata": {},
     "output_type": "execute_result"
    }
   ],
   "source": [
    "ds.variables"
   ]
  },
  {
   "cell_type": "code",
   "execution_count": 106,
   "metadata": {},
   "outputs": [],
   "source": [
    "ds.close()"
   ]
  },
  {
   "attachments": {},
   "cell_type": "markdown",
   "metadata": {},
   "source": [
    "OUTRO\n"
   ]
  },
  {
   "cell_type": "code",
   "execution_count": 7,
   "metadata": {},
   "outputs": [],
   "source": [
    "\"\"\"\n",
    "This module contains I/O operations for loading csv files.\n",
    "\"\"\"\n",
    "\n",
    "import pathlib\n",
    "\n",
    "import pandas as pd\n",
    "\n",
    "from armfiles import check_arm_standards\n",
    "\n",
    "# Leitura do arquivo CSV\n",
    "dataTest = pd.read_csv('L:/GitHub/CAP-730-Research-Proposal-Dissertation/Notebooks/input/2021-07-27_19-43-20_lv1.csv', delimiter=',', skiprows=[0])\n",
    "\n",
    "\n",
    "def read_csv(dataTest, sep=',', engine='python', column_names=None, skipfooter=0, ignore_index=True, **kwargs):\n",
    "\n",
    "    \"\"\"\n",
    "    Returns an `xarray.Dataset` with stored data and metadata from user-defined\n",
    "    query of CSV files.\n",
    "    Parameters\n",
    "    ----------\n",
    "    filenames : str or list\n",
    "        Name of file(s) to read.\n",
    "    sep : str\n",
    "        The separator between columns in the csv file.\n",
    "    column_names : list or None\n",
    "        The list of column names in the csv file.\n",
    "    verbose : bool\n",
    "        If true, will print if a file is not found.\n",
    "    ignore_index : bool\n",
    "         Keyword for pandas concat function.  If True, do not use the index\n",
    "         values along the concatenation axis. The resulting axis will be labeled\n",
    "         0, …, n - 1. This is useful if you are concatenating objects where the\n",
    "         concatenation axis does not have meaningful indexing information. Note\n",
    "         the index values on the other axes are still respected in the join.\n",
    "    Additional keyword arguments will be passed into pandas.read_csv.\n",
    "    Returns\n",
    "    -------\n",
    "    act_obj : Object\n",
    "        ACT dataset. Will be None if the file is not found.\n",
    "    Examples\n",
    "    --------\n",
    "    This example will load the example sounding data used for unit testing:\n",
    "    .. code-block:: python\n",
    "        import act\n",
    "        the_ds, the_flag = act.io.csvfiles.read(act.tests.sample_files.EXAMPLE_CSV_WILDCARD)\n",
    "    \"\"\"\n",
    "\n",
    "    # Convert to string if filename is a pathlib or not a list\n",
    "    if isinstance(filename, (pathlib.PurePath, str)):\n",
    "        filename = [str(filename)]\n",
    "\n",
    "    if isinstance(filename, list) and isinstance(filename[0], pathlib.PurePath):\n",
    "        filename = [str(ii) for ii in filename]\n",
    "\n",
    "    # Read data using pandas read_csv one file at a time and append to\n",
    "    # list. Then concatinate the list into one pandas dataframe.\n",
    "    li = []\n",
    "    for fl in filename:\n",
    "        df = pd.read_csv(\n",
    "            fl, sep=sep, names=column_names, skipfooter=skipfooter, engine=engine, **kwargs\n",
    "        )\n",
    "        li.append(df)\n",
    "\n",
    "    if len(li) == 1:\n",
    "        df = li[0]\n",
    "    else:\n",
    "        df = pd.concat(li, axis=0, ignore_index=ignore_index)\n",
    "\n",
    "    # Set Coordinates if there's a variable date_time\n",
    "    if 'date_time' in df:\n",
    "        df.date_time = df.date_time.astype('datetime64')\n",
    "        df.time = df.date_time\n",
    "        df = df.set_index('time')\n",
    "\n",
    "    # Convert to xarray DataSet\n",
    "    ds = df.to_xarray()\n",
    "\n",
    "    # Set additional variables\n",
    "    # Since we cannot assume a standard naming convention setting\n",
    "    # file_date and file_time to the first time in the file\n",
    "    x_coord = ds.coords.to_index().values[0]\n",
    "    if isinstance(x_coord, str):\n",
    "        x_coord_dt = pd.to_datetime(x_coord)\n",
    "        ds.attrs['_file_dates'] = x_coord_dt.strftime('%Y%m%d')\n",
    "        ds.attrs['_file_times'] = x_coord_dt.strftime('%H%M%S')\n",
    "\n",
    "    # Check for standard ARM datastream name, if none, assume the file is ARM\n",
    "    # standard format.\n",
    "    is_arm_file_flag = check_arm_standards(ds)\n",
    "    if is_arm_file_flag == 0:\n",
    "\n",
    "        ds.attrs['_datastream'] = '.'.join(filename[0].split('/')[-1].split('.')[0:2])\n",
    "\n",
    "    # Add additional attributes, site, standards flag, etc...\n",
    "    ds.attrs['_site'] = str(ds.attrs['_datastream'])[0:3]\n",
    "    ds.attrs['_arm_standards_flag'] = is_arm_file_flag\n",
    "\n",
    "    return ds\n"
   ]
  },
  {
   "cell_type": "code",
   "execution_count": 9,
   "metadata": {},
   "outputs": [
    {
     "ename": "UnboundLocalError",
     "evalue": "cannot access local variable 'filename' where it is not associated with a value",
     "output_type": "error",
     "traceback": [
      "\u001b[1;31m---------------------------------------------------------------------------\u001b[0m",
      "\u001b[1;31mUnboundLocalError\u001b[0m                         Traceback (most recent call last)",
      "Cell \u001b[1;32mIn[9], line 1\u001b[0m\n\u001b[1;32m----> 1\u001b[0m read_csv(dataTest)\n",
      "Cell \u001b[1;32mIn[7], line 47\u001b[0m, in \u001b[0;36mread_csv\u001b[1;34m(dataTest, sep, engine, column_names, skipfooter, ignore_index, **kwargs)\u001b[0m\n\u001b[0;32m     14\u001b[0m \u001b[39m\u001b[39m\u001b[39m\"\"\"\u001b[39;00m\n\u001b[0;32m     15\u001b[0m \u001b[39mReturns an `xarray.Dataset` with stored data and metadata from user-defined\u001b[39;00m\n\u001b[0;32m     16\u001b[0m \u001b[39mquery of CSV files.\u001b[39;00m\n\u001b[1;32m   (...)\u001b[0m\n\u001b[0;32m     43\u001b[0m \u001b[39m    the_ds, the_flag = act.io.csvfiles.read(act.tests.sample_files.EXAMPLE_CSV_WILDCARD)\u001b[39;00m\n\u001b[0;32m     44\u001b[0m \u001b[39m\"\"\"\u001b[39;00m\n\u001b[0;32m     46\u001b[0m \u001b[39m# Convert to string if filename is a pathlib or not a list\u001b[39;00m\n\u001b[1;32m---> 47\u001b[0m \u001b[39mif\u001b[39;00m \u001b[39misinstance\u001b[39m(filename, (pathlib\u001b[39m.\u001b[39mPurePath, \u001b[39mstr\u001b[39m)):\n\u001b[0;32m     48\u001b[0m     filename \u001b[39m=\u001b[39m [\u001b[39mstr\u001b[39m(filename)]\n\u001b[0;32m     50\u001b[0m \u001b[39mif\u001b[39;00m \u001b[39misinstance\u001b[39m(filename, \u001b[39mlist\u001b[39m) \u001b[39mand\u001b[39;00m \u001b[39misinstance\u001b[39m(filename[\u001b[39m0\u001b[39m], pathlib\u001b[39m.\u001b[39mPurePath):\n",
      "\u001b[1;31mUnboundLocalError\u001b[0m: cannot access local variable 'filename' where it is not associated with a value"
     ]
    }
   ],
   "source": [
    "read_csv(dataTest)"
   ]
  }
 ],
 "metadata": {
  "kernelspec": {
   "display_name": "Python 3",
   "language": "python",
   "name": "python3"
  },
  "language_info": {
   "codemirror_mode": {
    "name": "ipython",
    "version": 3
   },
   "file_extension": ".py",
   "mimetype": "text/x-python",
   "name": "python",
   "nbconvert_exporter": "python",
   "pygments_lexer": "ipython3",
   "version": "3.11.0"
  },
  "orig_nbformat": 4,
  "vscode": {
   "interpreter": {
    "hash": "07ce037792393486de82b78557509c70dc90bfb6f086cff9f2eca46d4f24b232"
   }
  }
 },
 "nbformat": 4,
 "nbformat_minor": 2
}
