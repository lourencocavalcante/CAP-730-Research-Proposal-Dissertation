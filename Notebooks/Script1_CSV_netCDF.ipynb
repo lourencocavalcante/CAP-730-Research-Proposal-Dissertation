{
 "cells": [
  {
   "attachments": {},
   "cell_type": "markdown",
   "metadata": {},
   "source": [
    "OBJETIVO: Ler oum arquivo CSV, selecionar as variáveis de interesse, converter as unidades e preencher as variáveis do arquivo netCDF de acordo com as instruções do manual da ARM. É importante lembrar que os atributos globais e das variáveis podem ser ajustados de acordo com as características específicas dos dados."
   ]
  },
  {
   "cell_type": "code",
   "execution_count": 10,
   "metadata": {},
   "outputs": [],
   "source": [
    "import numpy as np\n",
    "import pandas as pd\n",
    "\n",
    "import os\n",
    "\n",
    "import act\n",
    "import matplotlib.pyplot as plt\n",
    "\n",
    "# First import the NetCDF4 package\n",
    "\n",
    "# Next import plotting functions\n",
    "from pylab import *\n",
    "\n",
    "from datetime import date, datetime\n",
    "\n",
    "import xarray as xr\n",
    "import matplotlib.pyplot as plt\n",
    "\n",
    "\n",
    "\n",
    "\n",
    "import copy\n",
    "import glob\n",
    "import json\n",
    "import re\n",
    "import urllib\n",
    "import warnings\n",
    "from pathlib import Path, PosixPath\n",
    "\n",
    "import netCDF4 as nc\n",
    "from netCDF4 import Dataset\n",
    "from netCDF4 import MFDataset\n",
    "from os import PathLike\n",
    "import tarfile\n",
    "import tempfile\n",
    "\n",
    "import numpy as np\n",
    "import xarray as xr\n",
    "\n",
    "import act.utils as utils\n",
    "from act.config import DEFAULT_DATASTREAM_NAME\n",
    "from act.utils.io_utils import unpack_tar, unpack_gzip, cleanup_files, is_gunzip_file\n",
    "\n",
    "\n",
    "\n",
    "%matplotlib inline"
   ]
  },
  {
   "cell_type": "code",
   "execution_count": 91,
   "metadata": {},
   "outputs": [],
   "source": [
    "#Abrindo os dados e criando o Dataframe\n",
    "df_mp3000A_1 = pd.read_table('./Data/level1_output_bt.txt',header=None,delim_whitespace=True)"
   ]
  },
  {
   "cell_type": "code",
   "execution_count": 92,
   "metadata": {},
   "outputs": [],
   "source": [
    "df_mp3000A_1.columns = ['Mes', 'dia', 'Ano', 'H', 'M', 'S', 'Ch_22_234', 'Ch_22_500', 'Ch_23_034', 'Ch_23_834', 'Ch_25_000', 'Ch_26_234', 'Ch_28_000', 'Ch_30_000', 'Ch_51_248', 'Ch_51_760', 'Ch_52_280', 'Ch_52_804', 'Ch_53_336', 'Ch_53_848', 'Ch_54_400', 'Ch_54_940', 'Ch_55_500', 'Ch_56_020', 'Ch_56_660', 'Ch_57_288', 'Ch_57_964', 'Ch_58_800', 'DataQuality']\n"
   ]
  },
  {
   "cell_type": "code",
   "execution_count": null,
   "metadata": {},
   "outputs": [],
   "source": [
    "#Faz uma busca na coluna Ano e altera o ano de YY para YYYY\n",
    "df_mp3000A_1['Ano'][df_mp3000A_1['Ano'] < 2000] = df_mp3000A_1['Ano'] + 2000"
   ]
  },
  {
   "cell_type": "code",
   "execution_count": 94,
   "metadata": {},
   "outputs": [],
   "source": [
    "\n",
    "#Modificanto o tipo de dado para (int)\n",
    "df_mp3000A_1[['Mes', 'dia', 'Ano', 'H', 'M', 'S']] = df_mp3000A_1[['Mes', 'dia', 'Ano', 'H', 'M', 'S']].astype(int)"
   ]
  },
  {
   "cell_type": "code",
   "execution_count": 95,
   "metadata": {},
   "outputs": [],
   "source": [
    "import calendar\n",
    "import datetime\n",
    "\n",
    "#Adiciona a coluna Datetime ao Dataframe com os dados do RD80 (Joss)\n",
    "df_mp3000A_1['Datetime'] = df_mp3000A_1[['Ano', 'Mes', 'dia', 'H', 'M', 'S']].apply(lambda row:\n",
    "                    datetime.datetime(year=row['Ano'], month=row['Mes'],day=row['dia'], hour=row['H'], minute=row[\"M\"], second=row[\"S\"]),axis=1)"
   ]
  },
  {
   "cell_type": "code",
   "execution_count": 96,
   "metadata": {},
   "outputs": [
    {
     "data": {
      "text/plain": [
       "Index(['Mes', 'dia', 'Ano', 'H', 'M', 'S', 'Ch_22_234', 'Ch_22_500',\n",
       "       'Ch_23_034', 'Ch_23_834', 'Ch_25_000', 'Ch_26_234', 'Ch_28_000',\n",
       "       'Ch_30_000', 'Ch_51_248', 'Ch_51_760', 'Ch_52_280', 'Ch_52_804',\n",
       "       'Ch_53_336', 'Ch_53_848', 'Ch_54_400', 'Ch_54_940', 'Ch_55_500',\n",
       "       'Ch_56_020', 'Ch_56_660', 'Ch_57_288', 'Ch_57_964', 'Ch_58_800',\n",
       "       'DataQuality', 'Datetime'],\n",
       "      dtype='object')"
      ]
     },
     "execution_count": 96,
     "metadata": {},
     "output_type": "execute_result"
    }
   ],
   "source": [
    "df_mp3000A_1.columns"
   ]
  },
  {
   "cell_type": "code",
   "execution_count": 97,
   "metadata": {},
   "outputs": [],
   "source": [
    "df_mp3000A_1 = df_mp3000A_1.reindex(columns=['Datetime','Mes', 'dia', 'Ano', 'H', 'M', 'S', 'Ch_22_234', 'Ch_22_500',\n",
    "       'Ch_23_034', 'Ch_23_834', 'Ch_25_000', 'Ch_26_234', 'Ch_28_000',\n",
    "       'Ch_30_000', 'Ch_51_248', 'Ch_51_760', 'Ch_52_280', 'Ch_52_804',\n",
    "       'Ch_53_336', 'Ch_53_848', 'Ch_54_400', 'Ch_54_940', 'Ch_55_500',\n",
    "       'Ch_56_020', 'Ch_56_660', 'Ch_57_288', 'Ch_57_964', 'Ch_58_800',\n",
    "       'DataQuality'])"
   ]
  },
  {
   "cell_type": "code",
   "execution_count": 98,
   "metadata": {},
   "outputs": [
    {
     "data": {
      "text/plain": [
       "Index(['Datetime', 'Mes', 'dia', 'Ano', 'H', 'M', 'S', 'Ch_22_234',\n",
       "       'Ch_22_500', 'Ch_23_034', 'Ch_23_834', 'Ch_25_000', 'Ch_26_234',\n",
       "       'Ch_28_000', 'Ch_30_000', 'Ch_51_248', 'Ch_51_760', 'Ch_52_280',\n",
       "       'Ch_52_804', 'Ch_53_336', 'Ch_53_848', 'Ch_54_400', 'Ch_54_940',\n",
       "       'Ch_55_500', 'Ch_56_020', 'Ch_56_660', 'Ch_57_288', 'Ch_57_964',\n",
       "       'Ch_58_800', 'DataQuality'],\n",
       "      dtype='object')"
      ]
     },
     "execution_count": 98,
     "metadata": {},
     "output_type": "execute_result"
    }
   ],
   "source": [
    "df_mp3000A_1.columns"
   ]
  },
  {
   "cell_type": "code",
   "execution_count": 99,
   "metadata": {},
   "outputs": [],
   "source": [
    "#Salvando/Exportando os Dataframes para o formato CSV\n",
    "#df_mp3000A_1.to_csv('./Data/2021-07-27_19-43-20_lv1.csv')"
   ]
  },
  {
   "cell_type": "code",
   "execution_count": 100,
   "metadata": {},
   "outputs": [],
   "source": [
    "\n",
    "# Leitura do arquivo CSV\n",
    "#data = pd.read_csv('http://ftp.lfa.if.usp.br/ftp/public/ATTO/Campina/MP3000/2021-07-27_19-43-20_lv1.csv', delimiter=',', skiprows=[0])\n",
    "data = df_mp3000A_1\n"
   ]
  },
  {
   "cell_type": "code",
   "execution_count": 101,
   "metadata": {},
   "outputs": [
    {
     "data": {
      "text/plain": [
       "Index(['Datetime', 'Mes', 'dia', 'Ano', 'H', 'M', 'S', 'Ch_22_234',\n",
       "       'Ch_22_500', 'Ch_23_034', 'Ch_23_834', 'Ch_25_000', 'Ch_26_234',\n",
       "       'Ch_28_000', 'Ch_30_000', 'Ch_51_248', 'Ch_51_760', 'Ch_52_280',\n",
       "       'Ch_52_804', 'Ch_53_336', 'Ch_53_848', 'Ch_54_400', 'Ch_54_940',\n",
       "       'Ch_55_500', 'Ch_56_020', 'Ch_56_660', 'Ch_57_288', 'Ch_57_964',\n",
       "       'Ch_58_800', 'DataQuality'],\n",
       "      dtype='object')"
      ]
     },
     "execution_count": 101,
     "metadata": {},
     "output_type": "execute_result"
    }
   ],
   "source": [
    "data.columns"
   ]
  },
  {
   "cell_type": "code",
   "execution_count": 102,
   "metadata": {},
   "outputs": [],
   "source": [
    "\n",
    "# Seleção das variáveis de interesse\n",
    "time = pd.to_datetime(data['Datetime'], format='%Y%m%d %H%M%S')\n",
    "#time = data['Record'].values\n",
    "pressure = data['Ch_22_234'].values\n",
    "temperature = data['Ch_22_500'].values\n",
    "relative_humidity = data['Ch_30_000'].values\n",
    "wind_speed = data['Ch_58_800'].values\n",
    "wind_direction = data['DataQuality'].values\n"
   ]
  },
  {
   "cell_type": "code",
   "execution_count": 103,
   "metadata": {},
   "outputs": [
    {
     "data": {
      "text/plain": [
       "0        2021-07-27 18:13:43\n",
       "1        2021-07-27 18:14:16\n",
       "2        2021-07-27 18:14:49\n",
       "3        2021-07-27 18:15:22\n",
       "4        2021-07-27 18:15:54\n",
       "                 ...        \n",
       "639689   2022-06-01 09:17:44\n",
       "639690   2022-06-01 09:18:17\n",
       "639691   2022-06-01 09:18:51\n",
       "639692   2022-06-01 09:19:24\n",
       "639693   2022-06-01 09:19:57\n",
       "Name: Datetime, Length: 639694, dtype: datetime64[ns]"
      ]
     },
     "execution_count": 103,
     "metadata": {},
     "output_type": "execute_result"
    }
   ],
   "source": [
    "time"
   ]
  },
  {
   "cell_type": "code",
   "execution_count": 104,
   "metadata": {},
   "outputs": [],
   "source": [
    "\n",
    "# Conversão de unidades\n",
    "relative_humidity = relative_humidity * 3.6 # de m/s para km/h\n"
   ]
  },
  {
   "cell_type": "code",
   "execution_count": 1,
   "metadata": {},
   "outputs": [
    {
     "ename": "NameError",
     "evalue": "name 'datetime' is not defined",
     "output_type": "error",
     "traceback": [
      "\u001b[1;31m---------------------------------------------------------------------------\u001b[0m",
      "\u001b[1;31mNameError\u001b[0m                                 Traceback (most recent call last)",
      "Cell \u001b[1;32mIn[1], line 1\u001b[0m\n\u001b[1;32m----> 1\u001b[0m filename \u001b[39m=\u001b[39m \u001b[39m'\u001b[39m\u001b[39mATTO_MWR_data_\u001b[39m\u001b[39m'\u001b[39m \u001b[39m+\u001b[39m datetime\u001b[39m.\u001b[39mnow()\u001b[39m.\u001b[39mstrftime(\u001b[39m'\u001b[39m\u001b[39m%\u001b[39m\u001b[39mY\u001b[39m\u001b[39m%\u001b[39m\u001b[39mm\u001b[39m\u001b[39m%d\u001b[39;00m\u001b[39m_\u001b[39m\u001b[39m%\u001b[39m\u001b[39mH\u001b[39m\u001b[39m%\u001b[39m\u001b[39mM\u001b[39m\u001b[39m%\u001b[39m\u001b[39mS\u001b[39m\u001b[39m'\u001b[39m) \u001b[39m+\u001b[39m \u001b[39m'\u001b[39m\u001b[39m.cdf\u001b[39m\u001b[39m'\u001b[39m\n\u001b[0;32m      2\u001b[0m \u001b[39m# Criação do arquivo netCDF\u001b[39;00m\n\u001b[0;32m      3\u001b[0m \u001b[39mwith\u001b[39;00m nc\u001b[39m.\u001b[39mDataset(filename, \u001b[39m'\u001b[39m\u001b[39mw\u001b[39m\u001b[39m'\u001b[39m, \u001b[39mformat\u001b[39m\u001b[39m=\u001b[39m\u001b[39m'\u001b[39m\u001b[39mNETCDF4_CLASSIC\u001b[39m\u001b[39m'\u001b[39m) \u001b[39mas\u001b[39;00m rootgrp:\n\u001b[0;32m      4\u001b[0m \n\u001b[0;32m      5\u001b[0m \n\u001b[0;32m      6\u001b[0m     \u001b[39m# Criação das dimensões\u001b[39;00m\n",
      "\u001b[1;31mNameError\u001b[0m: name 'datetime' is not defined"
     ]
    }
   ],
   "source": [
    "filename = 'ATTO_MWR_data_' + datetime.now().strftime('%Y%m%d_%H%M%S') + '.cdf'\n",
    "# Criação do arquivo netCDF\n",
    "with nc.Dataset(filename, 'w', format='NETCDF4_CLASSIC') as rootgrp:\n",
    "\n",
    "\n",
    "    # Criação das dimensões\n",
    "    time_dim = rootgrp.createDimension('time', None)\n",
    "\n",
    "    # Criação das variáveis\n",
    "    time_var = rootgrp.createVariable('time', 'f8', ('time',))\n",
    "    pressure_var = rootgrp.createVariable('air_pressure', 'f4', ('time',), fill_value=-999.0)\n",
    "    temperature_var = rootgrp.createVariable('air_temperature', 'f4', ('time',), fill_value=-999.0)\n",
    "    relative_humidity_var = rootgrp.createVariable('relative_humidity', 'f4', ('time',), fill_value=-999.0)\n",
    "    wind_speed_var = rootgrp.createVariable('wind_speed', 'f4', ('time',), fill_value=-999.0)\n",
    "    wind_direction_var = rootgrp.createVariable('wind_direction', 'f4', ('time',), fill_value=-999.0)\n",
    "\n",
    "    # Definição dos atributos globais\n",
    "    rootgrp.Conventions = 'CF-1.6, ACDD-1.3'\n",
    "    rootgrp.title = 'Dados da estação MP3000 da ATTO em Campina'\n",
    "    rootgrp.summary = 'Dados horários de pressão atmosférica, temperatura do ar, umidade relativa, velocidade e direção do vento medidos pela estação MP3000 da ATTO em Campina.'\n",
    "    rootgrp.institution = 'National Institute for Space Research (INPE), Universidade de São Paulo, Instituto de Física'\n",
    "    rootgrp.source = 'Estação MP3000 da ATTO -Campina'\n",
    "    rootgrp.references = 'https://www.arm.gov/capabilities/instruments/mwr'\n",
    "    rootgrp.comment = 'Data collected during the ATTO project'\n",
    "\n",
    "    # Definição dos atributos das variáveis\n",
    "    time_var.units = 'seconds since 1970-01-01 00:00:00'\n",
    "    time_var.standard_name = 'time'\n",
    "    pressure_var.units = 'hPa'\n",
    "    pressure_var.standard_name = 'air_pressure'\n",
    "    temperature_var.units = 'degree_Celsius'\n",
    "    temperature_var.standard_name = 'air_temperature'\n",
    "    relative_humidity_var.units = 'percent'\n",
    "    relative_humidity_var.standard_name = 'relative_humidity'\n",
    "    wind_speed_var.units = 'kilometers_per_hour'\n",
    "    wind_speed_var.standard_name = 'wind_speed'\n",
    "    wind_direction_var.units = 'degree'\n",
    "    wind_direction_var.standard_name = 'wind_direction'\n",
    "\n",
    "    # Preenchimento das variáveis com os dados\n",
    "    #time_var[:] = nc.date2num(time, units=time_var.units)\n",
    "    time_var[:] = time\n",
    "    pressure_var[:] = pressure\n",
    "    temperature_var[:] = temperature\n",
    "    relative_humidity_var[:] = relative_humidity\n",
    "    wind_speed_var[:] = wind_speed\n",
    "    wind_direction_var[:] = wind_direction\n",
    "\n",
    "    # Definição dos atributos específicos das variáveis\n",
    "    time_var.long_name = 'Time of measurement'\n",
    "    pressure_var.long_name = 'Atmospheric pressure'\n",
    "    pressure_var.valid_min = np.float32(850.0)\n",
    "    pressure_var.valid_max = np.float32(1100.0)\n",
    "    pressure_var.comment = 'The atmospheric pressure is the pressure exerted by the weight of the atmosphere on the Earth surface.'\n",
    "    temperature_var.long_name = 'Air temperature'\n",
    "    temperature_var.valid_min = np.float32(-80.0)\n",
    "    temperature_var.valid_max = np.float32(60.0)\n",
    "    temperature_var.comment = 'The air temperature is the temperature of the air outside the instrument housing.'\n",
    "    relative_humidity_var.long_name = 'Relative humidity'\n",
    "    relative_humidity_var.valid_min = np.float32(0.0)\n",
    "    relative_humidity_var.valid_max = np.float32(100.0)\n",
    "    relative_humidity_var.comment = 'The relative humidity is the amount of water vapor present in the air relative to the amount that would be present at saturation at the same temperature.'\n",
    "    wind_speed_var.long_name = 'Wind speed'\n",
    "    wind_speed_var.valid_min = np.float32(0.0)\n",
    "    wind_speed_var.valid_max = np.float32(100.0)\n",
    "    wind_speed_var.comment = 'The wind speed is the speed of the air relative to the instrument housing.'\n",
    "    wind_direction_var.long_name = 'Wind direction'\n",
    "    wind_direction_var.valid_min = np.float32(0.0)\n",
    "    wind_direction_var.valid_max = np.float32(360.0)\n",
    "    wind_direction_var.comment = 'The wind direction is the direction from which the wind is blowing.'\n",
    "\n",
    "print('Arquivo netCDF criado com sucesso.')"
   ]
  },
  {
   "cell_type": "code",
   "execution_count": null,
   "metadata": {},
   "outputs": [],
   "source": [
    "rootgrp.close()"
   ]
  },
  {
   "cell_type": "code",
   "execution_count": null,
   "metadata": {},
   "outputs": [],
   "source": [
    "import os\n",
    "\n",
    "import act\n",
    "import matplotlib.pyplot as plt\n",
    "\n",
    "# First import the NetCDF4 package\n",
    "from netCDF4 import Dataset\n",
    "from netCDF4 import MFDataset\n",
    "\n",
    "# Next import plotting functions\n",
    "from pylab import *\n",
    "\n",
    "from datetime import date, datetime\n",
    "\n",
    "import xarray as xr\n",
    "import matplotlib.pyplot as plt\n",
    "%matplotlib inline"
   ]
  },
  {
   "cell_type": "code",
   "execution_count": null,
   "metadata": {},
   "outputs": [],
   "source": [
    "#Access directores files downloaded\n",
    "mwr_mp3000a_ds = act.io.armfiles.read_netcdf('L:/GitHub/CAP-Dissertation-Complementary-studies/Notebooks/exemplo_arm.nc')"
   ]
  },
  {
   "cell_type": "code",
   "execution_count": null,
   "metadata": {},
   "outputs": [],
   "source": [
    "ds = xr.open_dataset('exemplo_arm.cdf', decode_times=False)"
   ]
  },
  {
   "cell_type": "code",
   "execution_count": null,
   "metadata": {},
   "outputs": [
    {
     "data": {
      "text/plain": [
       "Frozen({'time': <xarray.IndexVariable 'time' (time: 639694)>\n",
       "array([1.627410e+18, 1.627410e+18, 1.627410e+18, ..., 1.654075e+18,\n",
       "       1.654075e+18, 1.654075e+18])\n",
       "Attributes:\n",
       "    units:          seconds since 1970-01-01 00:00:00\n",
       "    standard_name:  time\n",
       "    long_name:      Time of measurement, 'air_pressure': <xarray.Variable (time: 639694)>\n",
       "[639694 values with dtype=float32]\n",
       "Attributes:\n",
       "    units:          hPa\n",
       "    standard_name:  air_pressure\n",
       "    long_name:      Atmospheric pressure\n",
       "    valid_min:      850.0\n",
       "    valid_max:      1100.0\n",
       "    comment:        The atmospheric pressure is the pressure exerted by the w..., 'air_temperature': <xarray.Variable (time: 639694)>\n",
       "[639694 values with dtype=float32]\n",
       "Attributes:\n",
       "    units:          degree_Celsius\n",
       "    standard_name:  air_temperature\n",
       "    long_name:      Air temperature\n",
       "    valid_min:      -80.0\n",
       "    valid_max:      60.0\n",
       "    comment:        The air temperature is the temperature of the air outside..., 'relative_humidity': <xarray.Variable (time: 639694)>\n",
       "[639694 values with dtype=float32]\n",
       "Attributes:\n",
       "    units:          percent\n",
       "    standard_name:  relative_humidity\n",
       "    long_name:      Relative humidity\n",
       "    valid_min:      0.0\n",
       "    valid_max:      100.0\n",
       "    comment:        The relative humidity is the amount of water vapor presen..., 'wind_speed': <xarray.Variable (time: 639694)>\n",
       "[639694 values with dtype=float32]\n",
       "Attributes:\n",
       "    units:          kilometers_per_hour\n",
       "    standard_name:  wind_speed\n",
       "    long_name:      Wind speed\n",
       "    valid_min:      0.0\n",
       "    valid_max:      100.0\n",
       "    comment:        The wind speed is the speed of the air relative to the in..., 'wind_direction': <xarray.Variable (time: 639694)>\n",
       "[639694 values with dtype=float32]\n",
       "Attributes:\n",
       "    units:          degree\n",
       "    standard_name:  wind_direction\n",
       "    long_name:      Wind direction\n",
       "    valid_min:      0.0\n",
       "    valid_max:      360.0\n",
       "    comment:        The wind direction is the direction from which the wind i...})"
      ]
     },
     "execution_count": 84,
     "metadata": {},
     "output_type": "execute_result"
    }
   ],
   "source": [
    "ds.variables"
   ]
  },
  {
   "cell_type": "code",
   "execution_count": 106,
   "metadata": {},
   "outputs": [],
   "source": [
    "ds.close()"
   ]
  },
  {
   "cell_type": "code",
   "execution_count": 8,
   "metadata": {},
   "outputs": [],
   "source": [
    "import netCDF4 as nc\n",
    "import numpy as np\n",
    "\n",
    "# Criar o arquivo NetCDF\n",
    "ncfile = nc.Dataset(\"mwrp_atto_campina.nc\", mode=\"w\")\n",
    "\n",
    "# Definir dimensões\n",
    "time = ncfile.createDimension('time', None)\n",
    "height = ncfile.createDimension('height', 10)\n",
    "frequency = ncfile.createDimension('frequency', 3)\n",
    "\n",
    "# Criar as variáveis\n",
    "base_time_var = ncfile.createVariable(\"base_time\", \"S1\")\n",
    "time_offset_var = ncfile.createVariable(\"time_offset\", \"f8\", dimensions=(\"time\",))\n",
    "time_var = ncfile.createVariable(\"time\", \"f8\", dimensions=(\"time\",))\n",
    "qc_time_var = ncfile.createVariable(\"qc_time\", \"i4\", dimensions=(\"time\",))\n",
    "\n",
    "# Definir atributos das variáveis\n",
    "base_time_var[:] = np.string_(\"2015-11-30 00:00:00 0:00\")\n",
    "base_time_var.long_name = \"Base time in Epoch\"\n",
    "base_time_var.units = \"seconds since 1970-1-1 0:00:00 0:00\"\n",
    "\n",
    "time_offset_var.long_name = \"Time offset from base_time\"\n",
    "time_offset_var.units = \"seconds since 2015-11-30 00:00:00 0:00\"\n",
    "\n",
    "time_var.long_name = \"Time offset from midnight\"\n",
    "time_var.units = \"seconds since 2015-11-30 00:00:00 0:00\"\n",
    "\n",
    "qc_time_var.long_name = \"Quality check results on field: Time offset from midnight\"\n",
    "qc_time_var.units = \"unitless\"\n",
    "qc_time_var.description = \"This field contains bit packed values which should be interpreted as listed. No bits set (zero) represents good data.\"\n",
    "qc_time_var.bit_1_description = \"Delta time between current and previous samples is zero.\"\n",
    "qc_time_var.bit_1_assessment = \"Indeterminate\"\n",
    "qc_time_var.bit_2_description = \"Delta time between current and previous samples is less than the delta_t_lower_limit field attribute.\"\n",
    "qc_time_var.bit_2_assessment = \"Indeterminate\"\n",
    "qc_time_var.bit_3_description = \"Delta time between current and previous samples is greater than the delta_t_upper_limit field attribute.\"\n",
    "qc_time_var.bit_3_assessment = \"Indeterminate\"\n",
    "qc_time_var.delta_t_lower_limit = 15.\n",
    "qc_time_var.delta_t_upper_limit = 360.\n",
    "qc_time_var.prior_sample_flag = 1\n",
    "qc_time_var.comment = \"If the 'prior_sample_flag' is set the first sample time from a new raw file will be compared against the time just previous to it in the stored data. If it is not set the qc_time value for the first sample will be set to 0.\"\n",
    "\n",
    "#frequency.long_name = \"Frequency\"\n",
    "#frequency.units = \"gHz\"\n",
    "#height.long_name = \"Height\"\n",
    "#height.units = \"meters above ground level\"\n",
    "azimuth = ncfile.createVariable('azimuth', np.float32)\n",
    "azimuth.long_name = \"Azimuth angle\"\n",
    "azimuth.units = \"degrees\"\n",
    "azimuth.missing_value = -9999.\n",
    "elevation = ncfile.createVariable('elevation', np.float32, ('time',))\n",
    "elevation.long_name = \"Elevation angle\"\n",
    "elevation.units = \"degrees\"\n",
    "elevation.missing_value = -9999.\n",
    "surfacePressure = ncfile.createVariable('surfacePressure', np.float32, ('time',))\n",
    "surfacePressure.long_name = \"Surface pressure at instrument\"\n",
    "surfacePressure.units = \"hPa\"\n",
    "surfacePressure.missing_value = -9999.\n",
    "surfacePressure.valid_min = -180. #\"\"\n",
    "surfacePressure.valid_max = -180. #\"\"\n",
    "qc_surfacePressure = ncfile.createVariable('qc_surfacePressure', np.int32, ('time',))\n",
    "qc_surfacePressure.long_name = \"Quality check results on field: Surface pressure at instrument\"\n",
    "qc_surfacePressure.units = \"unitless\"\n",
    "qc_surfacePressure.description = \"See global attributes for individual bit descriptions.\"\n",
    "\n",
    "surfaceTemperature = ncfile.createVariable('surfaceTemperature', np.float32, ('time',))\n",
    "surfaceTemperature.long_name = \"Surface absolute temperature at instrument\"\n",
    "surfaceTemperature.units = \"K\"\n",
    "surfaceTemperature.missing_value = -9999.\n",
    "surfaceTemperature.valid_min = -180.\n",
    "surfaceTemperature.valid_max = -180.\n",
    "\n",
    "qc_surfaceTemperature = ncfile.createVariable('qc_surfaceTemperature', np.int32, ('time',))\n",
    "qc_surfaceTemperature.long_name = \"Quality check results on field: Surface absolute temperature at instrument\"\n",
    "qc_surfaceTemperature.units = \"unitless\"\n",
    "qc_surfaceTemperature.description = \"See global attributes for individual bit descriptions.\"\n",
    "\n",
    "surfaceRelativeHumidity = ncfile.createVariable('surfaceRelativeHumidity', np.float32, ('time',))\n",
    "surfaceRelativeHumidity.long_name = \"Surface relative humidity at instrument\"\n",
    "surfaceRelativeHumidity.units = \"%\"\n",
    "surfaceRelativeHumidity.missing_value = -9999.\n",
    "surfaceRelativeHumidity.valid_min = -180.\n",
    "surfaceRelativeHumidity.valid_max = -180.\n",
    "\n",
    "qc_surfaceRelativeHumidity = ncfile.createVariable('qc_surfaceRelativeHumidity', np.int32, ('time',))\n",
    "qc_surfaceRelativeHumidity.long_name = \"Quality check results on field: Surface relative humidity at instrument\"\n",
    "qc_surfaceRelativeHumidity.units = \"unitless\"\n",
    "qc_surfaceRelativeHumidity.description = \"See global attributes for individual bit descriptions.\"\n",
    "\n",
    "surfaceWaterVaporDensity = ncfile.createVariable('surfaceWaterVaporDensity', np.float32, ('time',))\n",
    "surfaceWaterVaporDensity.long_name = \"Surface water vapor density at instrument\"\n",
    "surfaceWaterVaporDensity.units = \"g/m^3\"\n",
    "surfaceWaterVaporDensity.missing_value = -9999.\n",
    "surfaceWaterVaporDensity.valid_min = -180.\n",
    "surfaceWaterVaporDensity.valid_max = -180.\n",
    "\n",
    "\n",
    "\n",
    "# Definição dos atributos globais\n",
    "ncfile.Conventions = 'CF-1.6, ACDD-1.3'\n",
    "ncfile.title = 'Dados da estação MP3000 da ATTO em Campina'\n",
    "ncfile.summary = 'Dados horários de pressão atmosférica, temperatura do ar, umidade relativa, velocidade e direção do vento medidos pela estação MP3000 da ATTO em Campina.'\n",
    "ncfile.institution = 'National Institute for Space Research (INPE), Universidade de São Paulo, Instituto de Física'\n",
    "ncfile.source = 'Estação MP3000 da ATTO -Campina'\n",
    "ncfile.references = 'https://www.arm.gov/capabilities/instruments/mwr'\n",
    "ncfile.comment = 'Data collected during the ATTO project'\n",
    "\n"
   ]
  },
  {
   "cell_type": "code",
   "execution_count": 7,
   "metadata": {},
   "outputs": [],
   "source": [
    "# Fechar o arquivo\n",
    "ncfile.close()"
   ]
  },
  {
   "cell_type": "code",
   "execution_count": null,
   "metadata": {},
   "outputs": [],
   "source": [
    "atto_campina_mwrp = xr.open_dataset('mwrp_atto_campina.nc', decode_times=False)"
   ]
  },
  {
   "cell_type": "code",
   "execution_count": 14,
   "metadata": {},
   "outputs": [
    {
     "data": {
      "text/plain": [
       "{'base_time': <class 'netCDF4._netCDF4.Variable'>\n",
       " |S1 base_time()\n",
       "     long_name: Base time in Epoch\n",
       "     units: seconds since 1970-1-1 0:00:00 0:00\n",
       " unlimited dimensions: \n",
       " current shape = ()\n",
       " filling on, default _FillValue of \u0000 used,\n",
       " 'time_offset': <class 'netCDF4._netCDF4.Variable'>\n",
       " float64 time_offset(time)\n",
       "     long_name: Time offset from base_time\n",
       "     units: seconds since 2015-11-30 00:00:00 0:00\n",
       " unlimited dimensions: time\n",
       " current shape = (0,)\n",
       " filling on, default _FillValue of 9.969209968386869e+36 used,\n",
       " 'time': <class 'netCDF4._netCDF4.Variable'>\n",
       " float64 time(time)\n",
       "     long_name: Time offset from midnight\n",
       "     units: seconds since 2015-11-30 00:00:00 0:00\n",
       " unlimited dimensions: time\n",
       " current shape = (0,)\n",
       " filling on, default _FillValue of 9.969209968386869e+36 used,\n",
       " 'qc_time': <class 'netCDF4._netCDF4.Variable'>\n",
       " int32 qc_time(time)\n",
       "     long_name: Quality check results on field: Time offset from midnight\n",
       "     units: unitless\n",
       "     description: This field contains bit packed values which should be interpreted as listed. No bits set (zero) represents good data.\n",
       "     bit_1_description: Delta time between current and previous samples is zero.\n",
       "     bit_1_assessment: Indeterminate\n",
       "     bit_2_description: Delta time between current and previous samples is less than the delta_t_lower_limit field attribute.\n",
       "     bit_2_assessment: Indeterminate\n",
       "     bit_3_description: Delta time between current and previous samples is greater than the delta_t_upper_limit field attribute.\n",
       "     bit_3_assessment: Indeterminate\n",
       "     delta_t_lower_limit: 15.0\n",
       "     delta_t_upper_limit: 360.0\n",
       "     prior_sample_flag: 1\n",
       "     comment: If the 'prior_sample_flag' is set the first sample time from a new raw file will be compared against the time just previous to it in the stored data. If it is not set the qc_time value for the first sample will be set to 0.\n",
       " unlimited dimensions: time\n",
       " current shape = (0,)\n",
       " filling on, default _FillValue of -2147483647 used,\n",
       " 'azimuth': <class 'netCDF4._netCDF4.Variable'>\n",
       " float32 azimuth()\n",
       "     long_name: Azimuth angle\n",
       "     units: degrees\n",
       "     missing_value: -9999.0\n",
       " unlimited dimensions: \n",
       " current shape = ()\n",
       " filling on, default _FillValue of 9.969209968386869e+36 used,\n",
       " 'elevation': <class 'netCDF4._netCDF4.Variable'>\n",
       " float32 elevation(time)\n",
       "     long_name: Elevation angle\n",
       "     units: degrees\n",
       "     missing_value: -9999.0\n",
       " unlimited dimensions: time\n",
       " current shape = (0,)\n",
       " filling on, default _FillValue of 9.969209968386869e+36 used,\n",
       " 'surfacePressure': <class 'netCDF4._netCDF4.Variable'>\n",
       " float32 surfacePressure(time)\n",
       "     long_name: Surface pressure at instrument\n",
       "     units: hPa\n",
       "     missing_value: -9999.0\n",
       "     valid_min: -180.0\n",
       "     valid_max: -180.0\n",
       " unlimited dimensions: time\n",
       " current shape = (0,)\n",
       " filling on, default _FillValue of 9.969209968386869e+36 used,\n",
       " 'qc_surfacePressure': <class 'netCDF4._netCDF4.Variable'>\n",
       " int32 qc_surfacePressure(time)\n",
       "     long_name: Quality check results on field: Surface pressure at instrument\n",
       "     units: unitless\n",
       "     description: See global attributes for individual bit descriptions.\n",
       " unlimited dimensions: time\n",
       " current shape = (0,)\n",
       " filling on, default _FillValue of -2147483647 used,\n",
       " 'surfaceTemperature': <class 'netCDF4._netCDF4.Variable'>\n",
       " float32 surfaceTemperature(time)\n",
       "     long_name: Surface absolute temperature at instrument\n",
       "     units: K\n",
       "     missing_value: -9999.0\n",
       "     valid_min: -180.0\n",
       "     valid_max: -180.0\n",
       " unlimited dimensions: time\n",
       " current shape = (0,)\n",
       " filling on, default _FillValue of 9.969209968386869e+36 used,\n",
       " 'qc_surfaceTemperature': <class 'netCDF4._netCDF4.Variable'>\n",
       " int32 qc_surfaceTemperature(time)\n",
       "     long_name: Quality check results on field: Surface absolute temperature at instrument\n",
       "     units: unitless\n",
       "     description: See global attributes for individual bit descriptions.\n",
       " unlimited dimensions: time\n",
       " current shape = (0,)\n",
       " filling on, default _FillValue of -2147483647 used,\n",
       " 'surfaceRelativeHumidity': <class 'netCDF4._netCDF4.Variable'>\n",
       " float32 surfaceRelativeHumidity(time)\n",
       "     long_name: Surface relative humidity at instrument\n",
       "     units: %\n",
       "     missing_value: -9999.0\n",
       "     valid_min: -180.0\n",
       "     valid_max: -180.0\n",
       " unlimited dimensions: time\n",
       " current shape = (0,)\n",
       " filling on, default _FillValue of 9.969209968386869e+36 used,\n",
       " 'qc_surfaceRelativeHumidity': <class 'netCDF4._netCDF4.Variable'>\n",
       " int32 qc_surfaceRelativeHumidity(time)\n",
       "     long_name: Quality check results on field: Surface relative humidity at instrument\n",
       "     units: unitless\n",
       "     description: See global attributes for individual bit descriptions.\n",
       " unlimited dimensions: time\n",
       " current shape = (0,)\n",
       " filling on, default _FillValue of -2147483647 used,\n",
       " 'surfaceWaterVaporDensity': <class 'netCDF4._netCDF4.Variable'>\n",
       " float32 surfaceWaterVaporDensity(time)\n",
       "     long_name: Surface water vapor density at instrument\n",
       "     units: g/m^3\n",
       "     missing_value: -9999.0\n",
       "     valid_min: -180.0\n",
       "     valid_max: -180.0\n",
       " unlimited dimensions: time\n",
       " current shape = (0,)\n",
       " filling on, default _FillValue of 9.969209968386869e+36 used}"
      ]
     },
     "execution_count": 14,
     "metadata": {},
     "output_type": "execute_result"
    }
   ],
   "source": [
    "ncfile.variables"
   ]
  },
  {
   "cell_type": "code",
   "execution_count": 10,
   "metadata": {},
   "outputs": [],
   "source": [
    "ds.close()"
   ]
  }
 ],
 "metadata": {
  "kernelspec": {
   "display_name": "Python 3",
   "language": "python",
   "name": "python3"
  },
  "language_info": {
   "codemirror_mode": {
    "name": "ipython",
    "version": 3
   },
   "file_extension": ".py",
   "mimetype": "text/x-python",
   "name": "python",
   "nbconvert_exporter": "python",
   "pygments_lexer": "ipython3",
   "version": "3.11.0"
  },
  "orig_nbformat": 4,
  "vscode": {
   "interpreter": {
    "hash": "07ce037792393486de82b78557509c70dc90bfb6f086cff9f2eca46d4f24b232"
   }
  }
 },
 "nbformat": 4,
 "nbformat_minor": 2
}
