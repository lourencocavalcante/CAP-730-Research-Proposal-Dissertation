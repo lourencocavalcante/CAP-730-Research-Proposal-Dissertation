{
 "cells": [
  {
   "cell_type": "code",
   "execution_count": 1,
   "metadata": {},
   "outputs": [],
   "source": [
    "import os\n",
    "\n",
    "import act\n",
    "import matplotlib.pyplot as plt\n",
    "\n",
    "# First import the NetCDF4 package\n",
    "from netCDF4 import Dataset\n",
    "from netCDF4 import MFDataset\n",
    "\n",
    "# Next import plotting functions\n",
    "from pylab import *\n",
    "\n",
    "from datetime import date, datetime"
   ]
  },
  {
   "cell_type": "code",
   "execution_count": 2,
   "metadata": {},
   "outputs": [],
   "source": [
    "# Place your username and token here\n",
    "my_arm_username = 'LourencoCavalcante' \n",
    "api_access_token = '311d84bc76093a97' #https://adc.arm.gov/armlive/register\n"
   ]
  },
  {
   "cell_type": "code",
   "execution_count": null,
   "metadata": {},
   "outputs": [],
   "source": [
    "#Site: Manacapuru, Amazonas, Brazil; Mobile Facility (GOAMAZON) (MAO)\n",
    "# GO - AMAZON (Start: 2014-01-08 for End: 2015-12-01)\n",
    "datastream = 'cormwrpM1.b1'\n",
    "date_start = '2018-09-23' \n",
    "date_end = '2019-04-09'\n",
    "\n",
    "# Download MWR data on ARM\n",
    "act.discovery.download_data(my_arm_username, api_access_token, datastream, date_start, date_end)\n",
    "\n"
   ]
  },
  {
   "cell_type": "code",
   "execution_count": 4,
   "metadata": {},
   "outputs": [],
   "source": [
    "#Create directores for output plot figures\n",
    "dir = (f'./{datastream}/output/figures')  \n",
    "os.makedirs(dir)\n",
    "#os.mkdir(dir)"
   ]
  },
  {
   "cell_type": "code",
   "execution_count": 28,
   "metadata": {},
   "outputs": [
    {
     "name": "stderr",
     "output_type": "stream",
     "text": [
      "c:\\ProgramData\\Miniconda3\\envs\\act_env\\Lib\\site-packages\\act\\utils\\data_utils.py:199: FutureWarning: Unlike other reduction functions (e.g. `skew`, `kurtosis`), the default behavior of `mode` typically preserves the axis it acts along. In SciPy 1.11.0, this behavior will change: the default value of `keepdims` will become False, the `axis` over which the statistic is taken will be eliminated, and the value None will no longer be accepted. Set `keepdims` to True or False to avoid this warning.\n",
      "  mode = stats.mode(diff).mode[0]\n",
      "c:\\ProgramData\\Miniconda3\\envs\\act_env\\Lib\\site-packages\\act\\utils\\data_utils.py:199: FutureWarning: Unlike other reduction functions (e.g. `skew`, `kurtosis`), the default behavior of `mode` typically preserves the axis it acts along. In SciPy 1.11.0, this behavior will change: the default value of `keepdims` will become False, the `axis` over which the statistic is taken will be eliminated, and the value None will no longer be accepted. Set `keepdims` to True or False to avoid this warning.\n",
      "  mode = stats.mode(diff).mode[0]\n"
     ]
    }
   ],
   "source": [
    "data = datetime.today()\n",
    "hoje = data.strftime('%d-%m-%Y')\n",
    "hora = data.strftime('%H-%M-%S')\n",
    "\n",
    "keepdims=False\n",
    "\n",
    "#Access directores files downloaded\n",
    "\n",
    "mwr_mp3000a_ds = act.io.armfiles.read_netcdf(f'{datastream}/{datastream}.2018*.cdf')\n",
    "ceil_ds = act.io.armfiles.read_netcdf(f'{datastream}/{datastream}.2018*.cdf')\n",
    "\n",
    "#print(mwr_mp3000a_ds.variables)\n",
    "# Create a TimeSeriesDisplay object\n",
    "#mwr_mp3000a_ds = mwr_mp3000a_ds.resample(time='1min').nearest()\n",
    "#ceil_ds = ceil_ds.resample(time='1min').nearest()\n",
    "\n",
    "display = act.plotting.TimeSeriesDisplay(\n",
    "   {'mwr_mp3000a': mwr_mp3000a_ds, 'mwr_mp3000a_': ceil_ds},\n",
    "   subplot_shape=(2,), figsize=(12,10)\n",
    ")\n",
    "\n",
    "# Plot data\n",
    "display.plot('frequency', dsname='mwr_mp3000a_', subplot_index=(0,), label='cbh')\n",
    "display.plot('brightnessTemperature', dsname='mwr_mp3000a', cmap='act_HomeyerRainbow', set_shading='nearest',\n",
    "   add_nan=True, subplot_index=(0,))\n",
    "\n",
    "display.plot('frequency', dsname='mwr_mp3000a_', subplot_index=(1,), label='cbh')\n",
    "display.plot('brightnessTemperature', dsname='mwr_mp3000a', cmap='act_HomeyerRainbow', set_shading='nearest',\n",
    "   add_nan=True, subplot_index=(1,))\n",
    "plt.savefig(f'{datastream}/output/figures/{datastream}_{hoje}_{hora}.png')\n",
    "\n"
   ]
  },
  {
   "cell_type": "code",
   "execution_count": null,
   "metadata": {},
   "outputs": [],
   "source": [
    "print(mwr_mp3000a_ds.variables.keys())"
   ]
  },
  {
   "attachments": {},
   "cell_type": "markdown",
   "metadata": {},
   "source": [
    "REFERENCES:\n",
    "\n",
    "@misc{zhang, title={MWR Retrievals (MWRRET1LILJCLOU)}, DOI={10.5439/1027369}, journal={Atmospheric Radiation Measurement (ARM) user facility}, author={Zhang, Damao} }"
   ]
  }
 ],
 "metadata": {
  "kernelspec": {
   "display_name": "Python 3",
   "language": "python",
   "name": "python3"
  },
  "language_info": {
   "codemirror_mode": {
    "name": "ipython",
    "version": 3
   },
   "file_extension": ".py",
   "mimetype": "text/x-python",
   "name": "python",
   "nbconvert_exporter": "python",
   "pygments_lexer": "ipython3",
   "version": "3.11.0"
  },
  "orig_nbformat": 4,
  "vscode": {
   "interpreter": {
    "hash": "07ce037792393486de82b78557509c70dc90bfb6f086cff9f2eca46d4f24b232"
   }
  }
 },
 "nbformat": 4,
 "nbformat_minor": 2
}
